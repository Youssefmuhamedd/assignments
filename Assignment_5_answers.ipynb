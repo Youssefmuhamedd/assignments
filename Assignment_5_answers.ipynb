{
  "nbformat": 4,
  "nbformat_minor": 0,
  "metadata": {
    "colab": {
      "private_outputs": true,
      "provenance": []
    },
    "kernelspec": {
      "name": "python3",
      "display_name": "Python 3"
    },
    "language_info": {
      "name": "python"
    }
  },
  "cells": [
    {
      "cell_type": "markdown",
      "source": [
        "### Task 1"
      ],
      "metadata": {
        "id": "vj3HPudmuzG-"
      }
    },
    {
      "cell_type": "markdown",
      "source": [
        "This code defines a simple bank system using Python classes. The `Bank class` manages user accounts, balances, registration, login, balance checking, deposits, and withdrawals. Here's a summary of the functionality:\n",
        "\n",
        "`User Registration`: Allows a user to register by entering a unique username and password. If the username already exists, it prompts the user to choose a different one.\n",
        "\n",
        "`User Login`: Allows a registered user to log in by entering their username and password. If the username and password match, the user is logged in successfully.\n",
        "\n",
        "`Check Balance`: Allows a logged-in user to check their current account balance.\n",
        "\n",
        "`Deposit`: Allows a logged-in user to deposit money into their account. The user enters the deposit amount, which is added to their account balance.\n",
        "\n",
        "`Withdrawal`: Allows a logged-in user to withdraw money from their account, provided they have sufficient balance. The user enters the withdrawal amount, which is deducted from their account balance."
      ],
      "metadata": {
        "id": "Qe_S6JKbuXef"
      }
    },
    {
      "cell_type": "code",
      "source": [
        "import getpass\n",
        "\n",
        "class Bank:\n",
        "    def __init__(self):\n",
        "        self.accounts = {}\n",
        "\n",
        "    def register(self):\n",
        "        username = input(\"Enter a username: \")\n",
        "        while username in self.accounts:\n",
        "            print(\"Username already exists. Please choose a different one.\")\n",
        "            username = input(\"Enter a username: \")\n",
        "        password = getpass.getpass(\"Enter a password: \")\n",
        "        self.accounts[username] = {\"password\": password, \"balance\": 0}\n",
        "        print(\"Registration successful.\")\n",
        "\n",
        "    def login(self):\n",
        "        username = input(\"Enter your username: \")\n",
        "        if username not in self.accounts:\n",
        "            print(\"Username not found.\")\n",
        "            return\n",
        "        password = getpass.getpass(\"Enter your password: \")\n",
        "        if self.accounts[username][\"password\"] != password:\n",
        "            print(\"Incorrect password.\")\n",
        "            return\n",
        "        print(\"Login successful.\")\n",
        "        self.logged_in_user = username\n",
        "\n",
        "    def check_balance(self):\n",
        "        if not hasattr(self, \"logged_in_user\"):\n",
        "            print(\"Please log in first.\")\n",
        "            return\n",
        "        print(f\"Your current balance is: {self.accounts[self.logged_in_user]['balance']}\")\n",
        "\n",
        "    def deposit(self):\n",
        "        if not hasattr(self, \"logged_in_user\"):\n",
        "            print(\"Please log in first.\")\n",
        "            return\n",
        "        amount = float(input(\"Enter the amount you want to deposit: \"))\n",
        "        self.accounts[self.logged_in_user][\"balance\"] += amount\n",
        "        print(f\"Deposit successful. Your new balance is: {self.accounts[self.logged_in_user]['balance']}\")\n",
        "\n",
        "    def withdraw(self):\n",
        "        if not hasattr(self, \"logged_in_user\"):\n",
        "            print(\"Please log in first.\")\n",
        "            return\n",
        "        amount = float(input(\"Enter the amount you want to withdraw: \"))\n",
        "        if self.accounts[self.logged_in_user][\"balance\"] < amount:\n",
        "            print(\"Insufficient balance. Please deposit more money or choose a smaller amount.\")\n",
        "            return\n",
        "        self.accounts[self.logged_in_user][\"balance\"] -= amount\n",
        "        print(f\"Withdrawal successful. Your new balance is: {self.accounts[self.logged_in_user]['balance']}\")\n",
        "\n",
        "bank = Bank()\n",
        "while True:\n",
        "    print(\"\\n1. Register\")\n",
        "    print(\"2. Login\")\n",
        "    print(\"3. Check Balance\")\n",
        "    print(\"4. Deposit\")\n",
        "    print(\"5. Withdraw\")\n",
        "    print(\"6. Exit\")\n",
        "    choice = int(input(\"Enter your choice: \"))\n",
        "    if choice == 1:\n",
        "        bank.register()\n",
        "    elif choice == 2:\n",
        "        bank.login()\n",
        "    elif choice == 3:\n",
        "        bank.check_balance()\n",
        "    elif choice == 4:\n",
        "        bank.deposit()\n",
        "    elif choice == 5:\n",
        "        bank.withdraw()\n",
        "    elif choice == 6:\n",
        "        print(\"Exiting the bank system.\")\n",
        "        break\n",
        "    else:\n",
        "        print(\"Invalid choice. Please try again.\")"
      ],
      "metadata": {
        "id": "UxIQ05bGAwuQ"
      },
      "execution_count": null,
      "outputs": []
    },
    {
      "cell_type": "markdown",
      "source": [
        "### Task 2"
      ],
      "metadata": {
        "id": "adnMuaiQu1-_"
      }
    },
    {
      "cell_type": "markdown",
      "source": [
        "Defines a class named `Library` that represents a `library` system. The class has attributes for a list of games (gameslist), a dictionary of lenders (lenders), and a dictionary of donors (donors). It also includes methods for managing the library's collection of games.\n",
        "\n",
        "`games` method returns the list of games in the library.\n",
        "\n",
        "The `lend method` allows a person to borrow a game from the library by removing the game from the list of games and updating the lenders dictionary with the borrower's name and the borrowed game.\n",
        "\n",
        "The `returnb method` allows a person to return a borrowed game to the library by adding the game back to the list of games and removing the borrower's name from the lenders dictionary.\n",
        "\n",
        "The `donate method` allows a person to donate a new game to the library by adding the game to the list of games and updating the donors dictionary with the donor's name and the donated game."
      ],
      "metadata": {
        "id": "RacJKaSmvOAc"
      }
    },
    {
      "cell_type": "code",
      "execution_count": null,
      "metadata": {
        "id": "9d6mT0weuCr0"
      },
      "outputs": [],
      "source": [
        "class Library:\n",
        "    def __init__(self):\n",
        "        self.gameslist = []\n",
        "        self.lenders = {}\n",
        "        self.donors = {}\n",
        "\n",
        "    def games(self):\n",
        "        return self.gameslist\n",
        "\n",
        "    def lend(self, game, borrower):\n",
        "        if game in self.gameslist:\n",
        "            self.gameslist.remove(game)\n",
        "            self.lenders[borrower] = game\n",
        "            return f\"{borrower} has successfully borrowed {game}.\"\n",
        "        else:\n",
        "            return f\"{game} is not available in the library.\"\n",
        "\n",
        "    def returnb(self, game, borrower):\n",
        "        if borrower in self.lenders and self.lenders[borrower] == game:\n",
        "            self.gameslist.append(game)\n",
        "            del self.lenders[borrower]\n",
        "            return f\"{borrower} has successfully returned {game}.\"\n",
        "        else:\n",
        "            return f\"{borrower} did not borrow {game}.\"\n",
        "\n",
        "    def donate(self, game, donor):\n",
        "        self.gameslist.append(game)\n",
        "        self.donors[donor] = game\n",
        "        return f\"{donor} has successfully donated {game}.\""
      ]
    },
    {
      "cell_type": "code",
      "source": [
        "library = Library()\n",
        "library.gameslist = ['Game1', 'Game2', 'Game3']\n",
        "library.lenders = {'youssef': 'Game1'}\n",
        "library.donors = {'mohamed': 'Game4'}\n",
        "\n",
        "print(library.games())\n",
        "print(library.lend('Game2', 'ayman'))\n",
        "print(library.games())\n",
        "print(library.returnb('Game2', 'ayman'))\n",
        "print(library.games())\n",
        "print(library.donate('Game4', 'amr'))\n",
        "print(library.games())"
      ],
      "metadata": {
        "id": "0ySEbNbBCGrP"
      },
      "execution_count": null,
      "outputs": []
    }
  ]
}