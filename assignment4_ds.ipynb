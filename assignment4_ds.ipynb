{
  "nbformat": 4,
  "nbformat_minor": 0,
  "metadata": {
    "colab": {
      "provenance": []
    },
    "kernelspec": {
      "name": "python3",
      "display_name": "Python 3"
    },
    "language_info": {
      "name": "python"
    }
  },
  "cells": [
    {
      "cell_type": "markdown",
      "source": [
        "Write a Pandas program to create and display a one-dimensional array-like object containing an array of data using Pandas module."
      ],
      "metadata": {
        "id": "hqHpu3C7ctJK"
      }
    },
    {
      "cell_type": "code",
      "source": [
        "import pandas as pd\n",
        "\n",
        "# Create a list of data\n",
        "data = [10, 20, 30, 40, 50]\n",
        "\n",
        "# Create a Pandas Series from the list\n",
        "series_data = pd.Series(data)\n",
        "\n",
        "# Display the Series\n",
        "print(series_data)"
      ],
      "metadata": {
        "colab": {
          "base_uri": "https://localhost:8080/"
        },
        "id": "gqPBor7cc1IH",
        "outputId": "03d9f880-1a51-4580-c877-6aae6a1a7b36"
      },
      "execution_count": 18,
      "outputs": [
        {
          "output_type": "stream",
          "name": "stdout",
          "text": [
            "0    10\n",
            "1    20\n",
            "2    30\n",
            "3    40\n",
            "4    50\n",
            "dtype: int64\n"
          ]
        }
      ]
    },
    {
      "cell_type": "markdown",
      "source": [
        "Write a Pandas program to convert a Panda module Series to Python list and it's type"
      ],
      "metadata": {
        "id": "3IgnUIwrcwP7"
      }
    },
    {
      "cell_type": "code",
      "source": [
        "import pandas as pd\n",
        "\n",
        "# Create a Pandas Series\n",
        "series_data = pd.Series([10, 20, 30, 40, 50])\n",
        "\n",
        "# Convert the Pandas Series to a Python list\n",
        "list_data = series_data.tolist()\n",
        "\n",
        "# Display the converted list and its type\n",
        "print(\"Converted List:\", list_data)\n",
        "print(\"Type of Converted List:\", type(list_data))"
      ],
      "metadata": {
        "colab": {
          "base_uri": "https://localhost:8080/"
        },
        "id": "Gpo1l4bWbdCb",
        "outputId": "3239db60-aad5-4a8c-fd9d-0d85f0ee716f"
      },
      "execution_count": 19,
      "outputs": [
        {
          "output_type": "stream",
          "name": "stdout",
          "text": [
            "Converted List: [10, 20, 30, 40, 50]\n",
            "Type of Converted List: <class 'list'>\n"
          ]
        }
      ]
    },
    {
      "cell_type": "markdown",
      "source": [
        "Write a Pandas program to compare the elements of the two Pandas Series."
      ],
      "metadata": {
        "id": "eFSZpElHc4Qv"
      }
    },
    {
      "cell_type": "code",
      "source": [
        "import pandas as pd\n",
        "\n",
        "# Create the first Pandas Series\n",
        "series1 = pd.Series([1, 2, 3, 4, 5])\n",
        "\n",
        "# Create the second Pandas Series\n",
        "series2 = pd.Series([1, 3, 3, 4, 5])\n",
        "\n",
        "# Compare the elements of the two Series\n",
        "comparison = series1 == series2\n",
        "\n",
        "# Display the comparison result\n",
        "print(\"Comparison Result:\")\n",
        "print(comparison)"
      ],
      "metadata": {
        "colab": {
          "base_uri": "https://localhost:8080/"
        },
        "id": "viukpYCRbc-y",
        "outputId": "58781cc0-d680-4fe7-dcec-77541205200d"
      },
      "execution_count": 20,
      "outputs": [
        {
          "output_type": "stream",
          "name": "stdout",
          "text": [
            "Comparison Result:\n",
            "0     True\n",
            "1    False\n",
            "2     True\n",
            "3     True\n",
            "4     True\n",
            "dtype: bool\n"
          ]
        }
      ]
    },
    {
      "cell_type": "markdown",
      "source": [
        "Write a Pandas program to change the data type of given a column or a Series."
      ],
      "metadata": {
        "id": "iT3s87Foc46A"
      }
    },
    {
      "cell_type": "code",
      "source": [
        "import pandas as pd\n",
        "\n",
        "# Create a Pandas DataFrame\n",
        "data = {'A': [1, 2, 3, 4, 5],\n",
        "        'B': ['a', 'b', 'c', 'd', 'e']}\n",
        "df = pd.DataFrame(data)\n",
        "\n",
        "# Display the original DataFrame\n",
        "print(\"Original DataFrame:\")\n",
        "print(df)\n",
        "\n",
        "# Change the data type of column 'A' to float\n",
        "df['A'] = df['A'].astype(float)\n",
        "\n",
        "# Display the DataFrame after changing the data type\n",
        "print(\"\\nDataFrame after changing data type:\")\n",
        "print(df)\n",
        "\n",
        "# Change the data type of column 'B' to categorical\n",
        "df['B'] = df['B'].astype('category')\n",
        "\n",
        "# Display the DataFrame after changing data type\n",
        "print(\"\\nDataFrame after changing data type of column 'B' to categorical:\")\n",
        "print(df)"
      ],
      "metadata": {
        "colab": {
          "base_uri": "https://localhost:8080/"
        },
        "id": "B4Sbdi2Abc8U",
        "outputId": "67bc9a39-5825-4229-f301-806a7ce6a1b1"
      },
      "execution_count": 21,
      "outputs": [
        {
          "output_type": "stream",
          "name": "stdout",
          "text": [
            "Original DataFrame:\n",
            "   A  B\n",
            "0  1  a\n",
            "1  2  b\n",
            "2  3  c\n",
            "3  4  d\n",
            "4  5  e\n",
            "\n",
            "DataFrame after changing data type:\n",
            "     A  B\n",
            "0  1.0  a\n",
            "1  2.0  b\n",
            "2  3.0  c\n",
            "3  4.0  d\n",
            "4  5.0  e\n",
            "\n",
            "DataFrame after changing data type of column 'B' to categorical:\n",
            "     A  B\n",
            "0  1.0  a\n",
            "1  2.0  b\n",
            "2  3.0  c\n",
            "3  4.0  d\n",
            "4  5.0  e\n"
          ]
        }
      ]
    },
    {
      "cell_type": "markdown",
      "source": [
        "Write a Pandas program to get the powers of an array values element-wise.\n",
        "\n",
        "Note: First array elements raised to powers from second array\n",
        "\n",
        "Sample data: {'X':[78,85,96,80,86], 'Y':[84,94,89,83,86],'Z':[86,97,96,72,83]}\n"
      ],
      "metadata": {
        "id": "CDkWxWkic5dm"
      }
    },
    {
      "cell_type": "code",
      "source": [
        "import pandas as pd\n",
        "\n",
        "# Sample data\n",
        "data = {'X':[78,85,96,80,86], 'Y':[84,94,89,83,86],'Z':[86,97,96,72,83]}\n",
        "df = pd.DataFrame(data)\n",
        "\n",
        "# Define powers array\n",
        "powers = [2, 3, 4]\n",
        "\n",
        "# Raise each element of the DataFrame to corresponding powers\n",
        "result_df = pd.DataFrame({col: df[col] ** power for col, power in zip(df.columns, powers)})\n",
        "\n",
        "print(result_df)\n",
        "\n"
      ],
      "metadata": {
        "colab": {
          "base_uri": "https://localhost:8080/"
        },
        "id": "USyRLphqbc5_",
        "outputId": "6d7dcaad-0a64-46fb-c130-6a1e8812f393"
      },
      "execution_count": 22,
      "outputs": [
        {
          "output_type": "stream",
          "name": "stdout",
          "text": [
            "      X       Y         Z\n",
            "0  6084  592704  54700816\n",
            "1  7225  830584  88529281\n",
            "2  9216  704969  84934656\n",
            "3  6400  571787  26873856\n",
            "4  7396  636056  47458321\n"
          ]
        }
      ]
    },
    {
      "cell_type": "markdown",
      "source": [
        "Write a Pandas program to get the first 3 rows of a given DataFrame. Sample Python dictionary data and list labels:\n",
        "\n",
        "exam_data = {'name': ['Anastasia', 'Dima', 'Katherine', 'James', 'Emily', 'Michael',\n",
        "\n",
        "'Matthew', 'Laura', 'Kevin', 'Jonas'],\n",
        "\n",
        "'score': [12.5, 9, 16.5, np.nan, 9, 20, 14.5, np.nan, 8, 19],\n",
        "\n",
        "'attempts': [1, 3, 2, 3, 2, 3, 1, 1, 2, 1],\n",
        "\n",
        "'qualify': ['yes', 'no', 'yes', 'no', 'no', 'yes', 'yes', 'no', 'no', 'yes']} labels = ['a', 'b', 'c', 'd', 'e', 'f', 'g', 'h', 'i', 'j']"
      ],
      "metadata": {
        "id": "M3YvZ9MNc7vq"
      }
    },
    {
      "cell_type": "code",
      "source": [
        "import pandas as pd\n",
        "import numpy as np\n",
        "\n",
        "# Sample data\n",
        "exam_data = {\n",
        "    'name': ['Anastasia', 'Dima', 'Katherine', 'James', 'Emily', 'Michael', 'Matthew', 'Laura', 'Kevin', 'Jonas'],\n",
        "    'score': [12.5, 9, 16.5, np.nan, 9, 20, 14.5, np.nan, 8, 19],\n",
        "    'attempts': [1, 3, 2, 3, 2, 3, 1, 1, 2, 1],\n",
        "    'qualify': ['yes', 'no', 'yes', 'no', 'no', 'yes', 'yes', 'no', 'no', 'yes']\n",
        "}\n",
        "labels = ['a', 'b', 'c', 'd', 'e', 'f', 'g', 'h', 'i', 'j']\n",
        "\n",
        "# Create DataFrame\n",
        "df = pd.DataFrame(exam_data, index=labels)\n",
        "\n",
        "# Get the first 3 rows\n",
        "first_3_rows = df.iloc[:3]\n",
        "\n",
        "print(first_3_rows)\n"
      ],
      "metadata": {
        "colab": {
          "base_uri": "https://localhost:8080/"
        },
        "id": "imByavSgbc3u",
        "outputId": "7edd7c29-a540-4faa-d7ed-8018a0df9e5f"
      },
      "execution_count": 23,
      "outputs": [
        {
          "output_type": "stream",
          "name": "stdout",
          "text": [
            "        name  score  attempts qualify\n",
            "a  Anastasia   12.5         1     yes\n",
            "b       Dima    9.0         3      no\n",
            "c  Katherine   16.5         2     yes\n"
          ]
        }
      ]
    },
    {
      "cell_type": "markdown",
      "source": [
        "![Screenshot 2024-03-24 022535.png](data:image/png;base64,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)\n",
        "\n",
        "7. Write a Pandas program to display the default index and set a column as an Index in a given dataframe."
      ],
      "metadata": {
        "id": "pXsh_oiuc8OP"
      }
    },
    {
      "cell_type": "code",
      "source": [
        "import pandas as pd\n",
        "\n",
        "data = {\n",
        "    'ID': [101, 102, 103, 104, 105, 106],\n",
        "    'Street': ['Streat1', 'Streat2', 'Streat3', 'Streat4', 'Streat5', 'Streat6'],\n",
        "    'IDCode': ['S001', 'S002', 'S003', 'S004', 'S005', 'S006'],\n",
        "    'Grade': ['V', 'V', 'VI', 'VI', 'V', 'VI'],\n",
        "    'Name': ['Alberto Franco', 'Gino Mcneill', 'Ryan Parkes', 'Eesha Hinton', 'Gino Mcneill', 'David Parkes'],\n",
        "    'DOB': ['15/05/2002', '17/05/2002', '16/02/1999', '25/09/1998', '11/05/2002', '15/09/1997'],\n",
        "    'Age': [35, 32, 33, 30, 31, 32]\n",
        "}\n",
        "\n",
        "df = pd.DataFrame(data)  # Create DataFrame from data dictionary\n",
        "df_with_index = df.set_index('ID')\n",
        "\n",
        "print(\"\\nDataFrame with 'ID' as Index:\")\n",
        "print(df_with_index)\n"
      ],
      "metadata": {
        "colab": {
          "base_uri": "https://localhost:8080/"
        },
        "id": "w5ZZktC2bc1k",
        "outputId": "47fc863b-fa97-420e-abe9-d3e17c00df61"
      },
      "execution_count": 25,
      "outputs": [
        {
          "output_type": "stream",
          "name": "stdout",
          "text": [
            "\n",
            "DataFrame with 'ID' as Index:\n",
            "      Street IDCode Grade            Name         DOB  Age\n",
            "ID                                                        \n",
            "101  Streat1   S001     V  Alberto Franco  15/05/2002   35\n",
            "102  Streat2   S002     V    Gino Mcneill  17/05/2002   32\n",
            "103  Streat3   S003    VI     Ryan Parkes  16/02/1999   33\n",
            "104  Streat4   S004    VI    Eesha Hinton  25/09/1998   30\n",
            "105  Streat5   S005     V    Gino Mcneill  11/05/2002   31\n",
            "106  Streat6   S006    VI    David Parkes  15/09/1997   32\n"
          ]
        }
      ]
    },
    {
      "cell_type": "markdown",
      "source": [
        "Write a Pandas program to display the default index and set a column as an\n",
        "\n",
        "Index in a given dataframe and then reset the inde"
      ],
      "metadata": {
        "id": "msC52ehpc8lN"
      }
    },
    {
      "cell_type": "code",
      "source": [
        "import pandas as pd\n",
        "\n",
        "# Sample data\n",
        "data = {\n",
        "    'ID': [101, 102, 103, 104, 105, 106],\n",
        "    'Street': ['Streat1', 'Streat2', 'Streat3', 'Streat4', 'Streat5', 'Streat6'],\n",
        "    'IDCode': ['S001', 'S002', 'S003', 'S004', 'S005', 'S006'],\n",
        "    'Grade': ['V', 'V', 'VI', 'VI', 'V', 'VI'],\n",
        "    'Name': ['Alberto Franco', 'Gino Mcneill', 'Ryan Parkes', 'Eesha Hinton', 'Gino Mcneill', 'David Parkes'],\n",
        "    'DOB': ['15/05/2002', '17/05/2002', '16/02/1999', '25/09/1998', '11/05/2002', '15/09/1997'],\n",
        "    'Age': [35, 32, 33, 30, 31, 32]\n",
        "}\n",
        "\n",
        "df_with_index = df.set_index('ID')\n",
        "\n",
        "print(\"\\nDataFrame with 'ID' as Index:\")\n",
        "print(df_with_index)\n",
        "\n",
        "\n",
        "df_reset_index = df_with_index.reset_index()\n",
        "\n",
        "print(\"\\nDataFrame with Reset Index:\")\n",
        "print(df_reset_index)\n"
      ],
      "metadata": {
        "colab": {
          "base_uri": "https://localhost:8080/"
        },
        "id": "rF8o1TLabczS",
        "outputId": "7c18c8af-3db0-4f57-a481-c349c20ce48a"
      },
      "execution_count": 26,
      "outputs": [
        {
          "output_type": "stream",
          "name": "stdout",
          "text": [
            "\n",
            "DataFrame with 'ID' as Index:\n",
            "      Street IDCode Grade            Name         DOB  Age\n",
            "ID                                                        \n",
            "101  Streat1   S001     V  Alberto Franco  15/05/2002   35\n",
            "102  Streat2   S002     V    Gino Mcneill  17/05/2002   32\n",
            "103  Streat3   S003    VI     Ryan Parkes  16/02/1999   33\n",
            "104  Streat4   S004    VI    Eesha Hinton  25/09/1998   30\n",
            "105  Streat5   S005     V    Gino Mcneill  11/05/2002   31\n",
            "106  Streat6   S006    VI    David Parkes  15/09/1997   32\n",
            "\n",
            "DataFrame with Reset Index:\n",
            "    ID   Street IDCode Grade            Name         DOB  Age\n",
            "0  101  Streat1   S001     V  Alberto Franco  15/05/2002   35\n",
            "1  102  Streat2   S002     V    Gino Mcneill  17/05/2002   32\n",
            "2  103  Streat3   S003    VI     Ryan Parkes  16/02/1999   33\n",
            "3  104  Streat4   S004    VI    Eesha Hinton  25/09/1998   30\n",
            "4  105  Streat5   S005     V    Gino Mcneill  11/05/2002   31\n",
            "5  106  Streat6   S006    VI    David Parkes  15/09/1997   32\n"
          ]
        }
      ]
    },
    {
      "cell_type": "markdown",
      "source": [
        "Write a Pandas program to create a dataframe indexing by date and time."
      ],
      "metadata": {
        "id": "NNcrWUapc-Uu"
      }
    },
    {
      "cell_type": "code",
      "source": [
        "df = pd.DataFrame(data)\n",
        "\n",
        "df['DOB'] = pd.to_datetime(df['DOB'])\n",
        "\n",
        "df.set_index('DOB', inplace=True)\n",
        "\n",
        "print(df)"
      ],
      "metadata": {
        "colab": {
          "base_uri": "https://localhost:8080/"
        },
        "id": "cxpbcWw5csND",
        "outputId": "ba3e02ad-6330-453a-aa2e-fd168d4231fa"
      },
      "execution_count": 27,
      "outputs": [
        {
          "output_type": "stream",
          "name": "stdout",
          "text": [
            "             ID   Street IDCode Grade            Name  Age\n",
            "DOB                                                       \n",
            "2002-05-15  101  Streat1   S001     V  Alberto Franco   35\n",
            "2002-05-17  102  Streat2   S002     V    Gino Mcneill   32\n",
            "1999-02-16  103  Streat3   S003    VI     Ryan Parkes   33\n",
            "1998-09-25  104  Streat4   S004    VI    Eesha Hinton   30\n",
            "2002-11-05  105  Streat5   S005     V    Gino Mcneill   31\n",
            "1997-09-15  106  Streat6   S006    VI    David Parkes   32\n"
          ]
        },
        {
          "output_type": "stream",
          "name": "stderr",
          "text": [
            "<ipython-input-27-6caa268c0a70>:3: UserWarning: Parsing dates in DD/MM/YYYY format when dayfirst=False (the default) was specified. This may lead to inconsistently parsed dates! Specify a format to ensure consistent parsing.\n",
            "  df['DOB'] = pd.to_datetime(df['DOB'])\n"
          ]
        }
      ]
    },
    {
      "cell_type": "markdown",
      "source": [
        "Write a Pandas program to create a dataframe and set a title or name of the index column."
      ],
      "metadata": {
        "id": "j0kPQQT9c-Cy"
      }
    },
    {
      "cell_type": "code",
      "source": [
        "df.set_index('ID', inplace=True)\n",
        "\n",
        "print(df)"
      ],
      "metadata": {
        "colab": {
          "base_uri": "https://localhost:8080/"
        },
        "id": "nXxRmalvcsEu",
        "outputId": "ad32b4ab-3b01-4413-f172-efa078084c95"
      },
      "execution_count": 28,
      "outputs": [
        {
          "output_type": "stream",
          "name": "stdout",
          "text": [
            "      Street IDCode Grade            Name  Age\n",
            "ID                                            \n",
            "101  Streat1   S001     V  Alberto Franco   35\n",
            "102  Streat2   S002     V    Gino Mcneill   32\n",
            "103  Streat3   S003    VI     Ryan Parkes   33\n",
            "104  Streat4   S004    VI    Eesha Hinton   30\n",
            "105  Streat5   S005     V    Gino Mcneill   31\n",
            "106  Streat6   S006    VI    David Parkes   32\n"
          ]
        }
      ]
    },
    {
      "cell_type": "markdown",
      "source": [
        "Write a Pandas program to select a specific row of given series/dataframe by integer index."
      ],
      "metadata": {
        "id": "BaZrLAkAc8_o"
      }
    },
    {
      "cell_type": "code",
      "source": [
        "df = pd.DataFrame(data)\n",
        "\n",
        "selected_row = df.iloc[2]\n",
        "\n",
        "print(\"Selected Row:\")\n",
        "print(selected_row)"
      ],
      "metadata": {
        "colab": {
          "base_uri": "https://localhost:8080/"
        },
        "id": "tOVcj55qcr5w",
        "outputId": "a551ef02-6d30-4abc-eb17-5669c82b5305"
      },
      "execution_count": 29,
      "outputs": [
        {
          "output_type": "stream",
          "name": "stdout",
          "text": [
            "Selected Row:\n",
            "ID                103\n",
            "Street        Streat3\n",
            "IDCode           S003\n",
            "Grade              VI\n",
            "Name      Ryan Parkes\n",
            "DOB        16/02/1999\n",
            "Age                33\n",
            "Name: 2, dtype: object\n"
          ]
        }
      ]
    }
  ]
}