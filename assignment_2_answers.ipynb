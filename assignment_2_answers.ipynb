{
  "nbformat": 4,
  "nbformat_minor": 0,
  "metadata": {
    "colab": {
      "provenance": []
    },
    "kernelspec": {
      "name": "python3",
      "display_name": "Python 3"
    },
    "language_info": {
      "name": "python"
    }
  },
  "cells": [
    {
      "cell_type": "markdown",
      "source": [
        "1. Write a NumPy program to test whether none of the elements of a given array is zero."
      ],
      "metadata": {
        "id": "JqS7cUuc0Lf7"
      }
    },
    {
      "cell_type": "code",
      "source": [
        "import numpy as np\n",
        "\n",
        "def test_none_zero(arr):\n",
        "    return np.all(arr != 0)\n",
        "arr = np.array([1, 2, 3, 4, 5])\n",
        "print(test_none_zero(arr))\n",
        "arr = np.array([0, 2, 3, 4, 5])\n",
        "print(test_none_zero(arr))"
      ],
      "metadata": {
        "id": "694US3Bnv1GN",
        "colab": {
          "base_uri": "https://localhost:8080/"
        },
        "outputId": "73b8272e-5ab7-4737-af27-1e80e0b5c927"
      },
      "execution_count": 5,
      "outputs": [
        {
          "output_type": "stream",
          "name": "stdout",
          "text": [
            "True\n",
            "False\n"
          ]
        }
      ]
    },
    {
      "cell_type": "markdown",
      "source": [
        "2. Write a NumPy program to test whether any of the elements of a given array is non-zero"
      ],
      "metadata": {
        "id": "rgK9TGv90L4B"
      }
    },
    {
      "cell_type": "code",
      "source": [
        "import numpy as np\n",
        "\n",
        "def test_any_non_zero(arr):\n",
        "    return np.any(arr != 0)\n",
        "\n",
        "arr = np.array([0, 0, 0, 0, 0])\n",
        "print(test_any_non_zero(arr))\n",
        "\n",
        "arr = np.array([1, 0, 3, 0, 5])\n",
        "print(test_any_non_zero(arr))"
      ],
      "metadata": {
        "id": "FF2FhcVOv1EO",
        "colab": {
          "base_uri": "https://localhost:8080/"
        },
        "outputId": "09c7fb10-3591-4efd-dfd6-ba10ee169c02"
      },
      "execution_count": 6,
      "outputs": [
        {
          "output_type": "stream",
          "name": "stdout",
          "text": [
            "False\n",
            "True\n"
          ]
        }
      ]
    },
    {
      "cell_type": "markdown",
      "source": [
        "3. Write a NumPy program to create an element-wise comparison (equal, equal within a tolerance) of two\n",
        "given"
      ],
      "metadata": {
        "id": "tpdAb-rV0MU5"
      }
    },
    {
      "cell_type": "code",
      "source": [
        "import numpy as np\n",
        "\n",
        "def element_wise_equal(arr1, arr2, tol=0):\n",
        "    if tol == 0:\n",
        "        return arr1 == arr2\n",
        "    else:\n",
        "        return np.abs(arr1 - arr2) <= tol\n",
        "\n",
        "arr1 = np.array([1.0, 2.0, 3.0, 4.0])\n",
        "arr2 = np.array([1.0, 2.0, 3.0, 4.1])\n",
        "\n",
        "print(element_wise_equal(arr1, arr2))\n",
        "\n",
        "print(element_wise_equal(arr1, arr2, tol=0.1))"
      ],
      "metadata": {
        "id": "gz4tqiSuv1B_",
        "colab": {
          "base_uri": "https://localhost:8080/"
        },
        "outputId": "1c1c8644-7445-49b3-8cc3-f0ce3da9caaa"
      },
      "execution_count": 7,
      "outputs": [
        {
          "output_type": "stream",
          "name": "stdout",
          "text": [
            "[ True  True  True False]\n",
            "[ True  True  True  True]\n"
          ]
        }
      ]
    },
    {
      "cell_type": "markdown",
      "source": [
        "4. Write a NumPy program to create an array of 10 zeros,10 ones, 10 fives."
      ],
      "metadata": {
        "id": "-s4vzgur0M4D"
      }
    },
    {
      "cell_type": "code",
      "source": [
        "import numpy as np\n",
        "\n",
        "def create_array():\n",
        "    arr = np.zeros(10, dtype=int)\n",
        "    arr[:10] = 0\n",
        "    arr[10:20] = 1\n",
        "    arr[20:] = 5\n",
        "    return arr\n",
        "\n",
        "print(create_array())"
      ],
      "metadata": {
        "id": "zfam1JFmv1AE",
        "colab": {
          "base_uri": "https://localhost:8080/"
        },
        "outputId": "932c9774-b585-4070-ac77-4a4bab3f8d9c"
      },
      "execution_count": 8,
      "outputs": [
        {
          "output_type": "stream",
          "name": "stdout",
          "text": [
            "[0 0 0 0 0 0 0 0 0 0]\n"
          ]
        }
      ]
    },
    {
      "cell_type": "markdown",
      "source": [
        "5. Write a NumPy program to create an array of the integers from 30 to70.\n"
      ],
      "metadata": {
        "id": "YeowZWyr0NzL"
      }
    },
    {
      "cell_type": "code",
      "source": [
        "import numpy as np\n",
        "\n",
        "def create_array():\n",
        "    return np.arange(30, 71)\n",
        "print(create_array())"
      ],
      "metadata": {
        "id": "2OWHSXXKv0-D",
        "colab": {
          "base_uri": "https://localhost:8080/"
        },
        "outputId": "8d6a5681-1ec1-4339-db81-d0143c43b7ef"
      },
      "execution_count": 9,
      "outputs": [
        {
          "output_type": "stream",
          "name": "stdout",
          "text": [
            "[30 31 32 33 34 35 36 37 38 39 40 41 42 43 44 45 46 47 48 49 50 51 52 53\n",
            " 54 55 56 57 58 59 60 61 62 63 64 65 66 67 68 69 70]\n"
          ]
        }
      ]
    },
    {
      "cell_type": "markdown",
      "source": [
        "6. Write a NumPy program to create a 3x3 identity matrix"
      ],
      "metadata": {
        "id": "RtGJXaGZ0NgZ"
      }
    },
    {
      "cell_type": "code",
      "source": [
        "import numpy as np\n",
        "\n",
        "def create_identity_matrix():\n",
        "    return np.eye(3)\n",
        "print(create_identity_matrix())"
      ],
      "metadata": {
        "id": "8S8JOul6uiwK",
        "colab": {
          "base_uri": "https://localhost:8080/"
        },
        "outputId": "ea780bdd-e5ef-4229-f8d1-d1c4d5b4db34"
      },
      "execution_count": 10,
      "outputs": [
        {
          "output_type": "stream",
          "name": "stdout",
          "text": [
            "[[1. 0. 0.]\n",
            " [0. 1. 0.]\n",
            " [0. 0. 1.]]\n"
          ]
        }
      ]
    },
    {
      "cell_type": "markdown",
      "source": [
        "7. Write a NumPy program to generate a random number between 0 and 1"
      ],
      "metadata": {
        "id": "mq_3tdFA0OT9"
      }
    },
    {
      "cell_type": "code",
      "source": [
        "import numpy as np\n",
        "\n",
        "def generate_random_number():\n",
        "    return np.random.rand()\n",
        "print(generate_random_number())"
      ],
      "metadata": {
        "id": "JFuVVsTQuit1",
        "colab": {
          "base_uri": "https://localhost:8080/"
        },
        "outputId": "127013b7-65af-4dda-9bc1-39b299081de5"
      },
      "execution_count": 11,
      "outputs": [
        {
          "output_type": "stream",
          "name": "stdout",
          "text": [
            "0.6288655315985369\n"
          ]
        }
      ]
    },
    {
      "cell_type": "markdown",
      "source": [
        "8. Write a NumPy program to generate an array of 15 random numbers from a standard normal\n",
        "distribution"
      ],
      "metadata": {
        "id": "BKUAV90X0OkC"
      }
    },
    {
      "cell_type": "code",
      "source": [
        "import numpy as np\n",
        "\n",
        "def generate_random_numbers():\n",
        "    return np.random.randn(15)\n",
        "\n",
        "print(generate_random_numbers())"
      ],
      "metadata": {
        "id": "U3q-PdL0uirb",
        "colab": {
          "base_uri": "https://localhost:8080/"
        },
        "outputId": "ca05a661-79ec-4ef2-d439-1be4d63256f0"
      },
      "execution_count": 12,
      "outputs": [
        {
          "output_type": "stream",
          "name": "stdout",
          "text": [
            "[ 1.08961168  0.68047061  0.22533847 -0.3306082   0.43003182 -0.18194307\n",
            "  1.45748027  0.17433456  1.40159973 -1.37037203 -0.41449517 -1.13714398\n",
            "  0.26254308 -1.31285545 -0.09711416]\n"
          ]
        }
      ]
    },
    {
      "cell_type": "markdown",
      "source": [
        "9. Write a NumPy program to create a vector with values ranging from 15 to 55 and print all values\n",
        "except the first and last"
      ],
      "metadata": {
        "id": "uptAIMAs0Pbr"
      }
    },
    {
      "cell_type": "code",
      "source": [
        "import numpy as np\n",
        "\n",
        "def create_vector():\n",
        "    vec = np.arange(15, 56)\n",
        "    print(vec[1:-1])\n",
        "\n",
        "create_vector()"
      ],
      "metadata": {
        "id": "VR9-OEYyuio7",
        "colab": {
          "base_uri": "https://localhost:8080/"
        },
        "outputId": "0bf89844-6834-4ca0-c14b-da6ea881a735"
      },
      "execution_count": 13,
      "outputs": [
        {
          "output_type": "stream",
          "name": "stdout",
          "text": [
            "[16 17 18 19 20 21 22 23 24 25 26 27 28 29 30 31 32 33 34 35 36 37 38 39\n",
            " 40 41 42 43 44 45 46 47 48 49 50 51 52 53 54]\n"
          ]
        }
      ]
    },
    {
      "cell_type": "markdown",
      "source": [
        "10. Write a NumPy program to create a vector of length 5 filled with arbitrary integers from 0 to 10"
      ],
      "metadata": {
        "id": "d0ZT77l00POM"
      }
    },
    {
      "cell_type": "code",
      "source": [
        "import numpy as np\n",
        "\n",
        "def create_vector():\n",
        "    vec = np.zeros(5, dtype=int)\n",
        "    vec[:] = np.random.randint(0, 11, size=5)\n",
        "    print(vec)\n",
        "\n",
        "create_vector()"
      ],
      "metadata": {
        "id": "bD1woZuFAsbv",
        "colab": {
          "base_uri": "https://localhost:8080/"
        },
        "outputId": "e31045a1-fc02-45f7-a751-60e408fd6517"
      },
      "execution_count": 14,
      "outputs": [
        {
          "output_type": "stream",
          "name": "stdout",
          "text": [
            "[9 1 3 3 4]\n"
          ]
        }
      ]
    },
    {
      "cell_type": "markdown",
      "source": [
        "11. Write a NumPy program to create a 10x10 matrix, in which the elements on the borders will be equal\n",
        "to 1, and inside 0.\n"
      ],
      "metadata": {
        "id": "GFu8xOqz0O4F"
      }
    },
    {
      "cell_type": "code",
      "source": [
        "import numpy as np\n",
        "\n",
        "def create_matrix():\n",
        "    mat = np.ones((10, 10))\n",
        "    mat[1:-1, 1:-1] = 0\n",
        "    print(mat)\n",
        "create_matrix()"
      ],
      "metadata": {
        "id": "NY5AGBqcAsZR",
        "colab": {
          "base_uri": "https://localhost:8080/"
        },
        "outputId": "bc7a2c67-9088-4cd2-a1dc-cbc3b0ce48a0"
      },
      "execution_count": 15,
      "outputs": [
        {
          "output_type": "stream",
          "name": "stdout",
          "text": [
            "[[1. 1. 1. 1. 1. 1. 1. 1. 1. 1.]\n",
            " [1. 0. 0. 0. 0. 0. 0. 0. 0. 1.]\n",
            " [1. 0. 0. 0. 0. 0. 0. 0. 0. 1.]\n",
            " [1. 0. 0. 0. 0. 0. 0. 0. 0. 1.]\n",
            " [1. 0. 0. 0. 0. 0. 0. 0. 0. 1.]\n",
            " [1. 0. 0. 0. 0. 0. 0. 0. 0. 1.]\n",
            " [1. 0. 0. 0. 0. 0. 0. 0. 0. 1.]\n",
            " [1. 0. 0. 0. 0. 0. 0. 0. 0. 1.]\n",
            " [1. 0. 0. 0. 0. 0. 0. 0. 0. 1.]\n",
            " [1. 1. 1. 1. 1. 1. 1. 1. 1. 1.]]\n"
          ]
        }
      ]
    },
    {
      "cell_type": "markdown",
      "source": [
        "12. Write a NumPy program to create a 5x5 zero matrix with elements on the main diagonal equal to 1, 2,\n",
        "3, 4, 5.\n"
      ],
      "metadata": {
        "id": "DjKZ8Zwm0QtR"
      }
    },
    {
      "cell_type": "code",
      "source": [
        "import numpy as np\n",
        "\n",
        "def create_matrix():\n",
        "    mat = np.zeros((5, 5))\n",
        "    np.fill_diagonal(mat, np.arange(1, 6))\n",
        "    print(mat)\n",
        "\n",
        "create_matrix()"
      ],
      "metadata": {
        "id": "UsCoxOgkc6nH",
        "colab": {
          "base_uri": "https://localhost:8080/"
        },
        "outputId": "30b2af1c-775a-4cc5-e878-b599bb06057f"
      },
      "execution_count": 16,
      "outputs": [
        {
          "output_type": "stream",
          "name": "stdout",
          "text": [
            "[[1. 0. 0. 0. 0.]\n",
            " [0. 2. 0. 0. 0.]\n",
            " [0. 0. 3. 0. 0.]\n",
            " [0. 0. 0. 4. 0.]\n",
            " [0. 0. 0. 0. 5.]]\n"
          ]
        }
      ]
    },
    {
      "cell_type": "markdown",
      "source": [
        "13. Write a NumPy program to create a 4x4 matrix in which 0 and 1 are staggered, with zeros on the main\n",
        "diagonal.\n"
      ],
      "metadata": {
        "id": "Gy9CnEXh0Qgw"
      }
    },
    {
      "cell_type": "code",
      "source": [
        "import numpy as np\n",
        "\n",
        "def create_matrix():\n",
        "    mat = np.zeros((4, 4))\n",
        "    np.fill_diagonal(mat, 0)\n",
        "    mat[::2, 1::2] = 1\n",
        "    mat[1::2, ::2] = 1\n",
        "    print(mat)\n",
        "\n",
        "create_matrix()"
      ],
      "metadata": {
        "id": "M8hJdDq9c6ju",
        "colab": {
          "base_uri": "https://localhost:8080/"
        },
        "outputId": "cb5d019c-d3be-4107-b820-4ca937272d2c"
      },
      "execution_count": 17,
      "outputs": [
        {
          "output_type": "stream",
          "name": "stdout",
          "text": [
            "[[0. 1. 0. 1.]\n",
            " [1. 0. 1. 0.]\n",
            " [0. 1. 0. 1.]\n",
            " [1. 0. 1. 0.]]\n"
          ]
        }
      ]
    },
    {
      "cell_type": "markdown",
      "source": [
        "14. Write a NumPy program to save two given arrays into a single file in compressed format (.npz format)\n",
        "and load it.\n"
      ],
      "metadata": {
        "id": "iCXZCLAV0QUE"
      }
    },
    {
      "cell_type": "code",
      "source": [
        "import numpy as np\n",
        "\n",
        "def save_arrays(array1, array2, filename):\n",
        "    np.savez_compressed(filename, array1=array1, array2=array2)\n",
        "\n",
        "def load_arrays(filename):\n",
        "    data = np.load(filename)\n",
        "    return data['array1'], data['array2']\n",
        "\n",
        "array1 = np.array([1, 2, 3, 4])\n",
        "array2 = np.array([5, 6, 7, 8])\n",
        "save_arrays(array1, array2, 'arrays.npz')\n",
        "loaded_array1, loaded_array2 = load_arrays('arrays.npz')\n",
        "print(loaded_array1)\n",
        "print(loaded_array2)"
      ],
      "metadata": {
        "id": "Pn-WT8_5c6ht",
        "colab": {
          "base_uri": "https://localhost:8080/"
        },
        "outputId": "b4aeaf88-a6c4-4a4f-d6ef-07f8ca3b6368"
      },
      "execution_count": 18,
      "outputs": [
        {
          "output_type": "stream",
          "name": "stdout",
          "text": [
            "[1 2 3 4]\n",
            "[5 6 7 8]\n"
          ]
        }
      ]
    },
    {
      "cell_type": "markdown",
      "source": [
        "15. Write a NumPy program to create a one-dimensional array of forty pseudo-randomly generated values.\n",
        "Select"
      ],
      "metadata": {
        "id": "xcpRIFST0QFh"
      }
    },
    {
      "cell_type": "code",
      "source": [
        "import numpy as np\n",
        "\n",
        "def create_array():\n",
        "    return np.random.rand(40)\n",
        "array = create_array()\n",
        "print(array)"
      ],
      "metadata": {
        "colab": {
          "base_uri": "https://localhost:8080/"
        },
        "id": "j6wgd1_S3050",
        "outputId": "f3b2513a-ba32-46bf-871a-7452abfb4599"
      },
      "execution_count": 19,
      "outputs": [
        {
          "output_type": "stream",
          "name": "stdout",
          "text": [
            "[0.2172398  0.90470952 0.51048283 0.5326507  0.65047275 0.06712021\n",
            " 0.7562854  0.69998659 0.61227871 0.92436096 0.33484123 0.08881001\n",
            " 0.4304325  0.68129481 0.79747417 0.84253549 0.52804901 0.18610879\n",
            " 0.0292261  0.98942761 0.95703389 0.08836225 0.58886933 0.03308832\n",
            " 0.1206657  0.99461964 0.51521562 0.50607221 0.58689305 0.48006183\n",
            " 0.91442898 0.25472985 0.06114737 0.62276332 0.96394691 0.53104388\n",
            " 0.93101937 0.88909622 0.96188372 0.41258659]\n"
          ]
        }
      ]
    },
    {
      "cell_type": "markdown",
      "source": [
        "16. Write a NumPy program to extract all numbers from a given array which are less and greater than a\n",
        "specified number."
      ],
      "metadata": {
        "id": "m6nne_GL30wr"
      }
    },
    {
      "cell_type": "code",
      "source": [
        "import numpy as np\n",
        "\n",
        "def extract_numbers(array, num):\n",
        "    return array[array < num], array[array > num]\n",
        "\n",
        "array = np.array([1, 2, 3, 4, 5, 6, 7, 8, 9, 10])\n",
        "less_than_5, greater_than_5 = extract_numbers(array, 5)\n",
        "print(\"Numbers less than 5:\", less_than_5)\n",
        "print(\"Numbers greater than 5:\", greater_than_5)"
      ],
      "metadata": {
        "colab": {
          "base_uri": "https://localhost:8080/"
        },
        "id": "7dhFaEAc30j1",
        "outputId": "2666a544-63e1-467a-fe58-ea9e27b05bf7"
      },
      "execution_count": 20,
      "outputs": [
        {
          "output_type": "stream",
          "name": "stdout",
          "text": [
            "Numbers less than 5: [1 2 3 4]\n",
            "Numbers greater than 5: [ 6  7  8  9 10]\n"
          ]
        }
      ]
    }
  ]
}