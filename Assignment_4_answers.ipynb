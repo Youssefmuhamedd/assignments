{
  "nbformat": 4,
  "nbformat_minor": 0,
  "metadata": {
    "colab": {
      "private_outputs": true,
      "provenance": []
    },
    "kernelspec": {
      "name": "python3",
      "display_name": "Python 3"
    },
    "language_info": {
      "name": "python"
    }
  },
  "cells": [
    {
      "cell_type": "markdown",
      "source": [
        "### Create a simple class names calculator"
      ],
      "metadata": {
        "id": "2a0y9sz6Znvf"
      }
    },
    {
      "cell_type": "code",
      "source": [
        "class SimpleCalculator:\n",
        "    def __init__(self):\n",
        "        self.result = 0\n",
        "\n",
        "    def add(self, num1, num2):\n",
        "        self.result = num1 + num2\n",
        "        return self.result\n",
        "\n",
        "    def subtract(self, num1, num2):\n",
        "        self.result = num1 - num2\n",
        "        return self.result\n",
        "\n",
        "    def multiply(self, num1, num2):\n",
        "        self.result = num1 * num2\n",
        "        return self.result\n",
        "\n",
        "    def divide(self, num1, num2):\n",
        "        if num2 == 0:\n",
        "            raise ValueError(\"not allowed.\")\n",
        "        self.result = num1 / num2\n",
        "        return self.result"
      ],
      "metadata": {
        "id": "kUKFWvpNiCK3"
      },
      "execution_count": null,
      "outputs": []
    },
    {
      "cell_type": "markdown",
      "source": [
        "### Create a constructor that prints Welcome message"
      ],
      "metadata": {
        "id": "h-9hbnhMZrdV"
      }
    },
    {
      "cell_type": "code",
      "source": [
        "class WelcomeMessage:\n",
        "    def __init__(self, name):\n",
        "        print(f\"Welcome, {name}!\")\n",
        "welcome = WelcomeMessage(\"youssef\")"
      ],
      "metadata": {
        "id": "SvUwkln_iCbI"
      },
      "execution_count": null,
      "outputs": []
    },
    {
      "cell_type": "markdown",
      "source": [
        "###  Add 2 methods to the class sum & mull"
      ],
      "metadata": {
        "id": "CciUtqOgZtr9"
      }
    },
    {
      "cell_type": "code",
      "source": [
        "class Calc:\n",
        "    def sum(self, num1, num2):\n",
        "        return num1 + num2\n",
        "\n",
        "    def mull(self, num1, num2):\n",
        "        return num1 * num2\n",
        "\n",
        "result = Calc()\n",
        "result_sum = welcome.sum(3, 5)\n",
        "result_mull = welcome.mull(4, 6)\n",
        "\n",
        "print(\"Sum result:\", result_sum)\n",
        "print(\"Multiplication result:\", result_mull)\n"
      ],
      "metadata": {
        "id": "jSHhnhJuiCvm"
      },
      "execution_count": null,
      "outputs": []
    },
    {
      "cell_type": "markdown",
      "source": [
        "###  The sum method return the sum of 2 arguments x and y"
      ],
      "metadata": {
        "id": "KX9v_nj0ZwX7"
      }
    },
    {
      "cell_type": "code",
      "source": [
        "class Calculator:\n",
        "    def sum(self, x, y):\n",
        "        return x + y\n",
        "calculator = Calculator()\n",
        "result = calculator.sum(5, 3)\n",
        "print(result)"
      ],
      "metadata": {
        "id": "RwTGgVCmiH-4"
      },
      "execution_count": null,
      "outputs": []
    },
    {
      "cell_type": "markdown",
      "source": [
        "### The mull method return the multiplication of the arguments x and y"
      ],
      "metadata": {
        "id": "z-zkBmIzZ1mI"
      }
    },
    {
      "cell_type": "code",
      "source": [
        "class Calculator:\n",
        "    def multiply(self, x, y):\n",
        "        return x * y\n",
        "calculator = Calculator()\n",
        "result = calculator.multiply(5, 3)\n",
        "print(result)"
      ],
      "metadata": {
        "id": "bR6DP3OQiHrX"
      },
      "execution_count": null,
      "outputs": []
    },
    {
      "cell_type": "markdown",
      "source": [
        "###  Take an object from the class"
      ],
      "metadata": {
        "id": "EvC_D3eHZ3mf"
      }
    },
    {
      "cell_type": "code",
      "source": [
        "class Car:\n",
        "    def __init__(self, make, model):\n",
        "        self.make = make\n",
        "        self.model = model\n",
        "my_car = Car('bmw', 'z4')\n",
        "print(my_car.make)\n",
        "print(my_car.model)"
      ],
      "metadata": {
        "id": "9hnlbvGjiHQY"
      },
      "execution_count": null,
      "outputs": []
    },
    {
      "cell_type": "markdown",
      "source": [
        "### Explain in few words why we call the self in methods"
      ],
      "metadata": {
        "id": "hY6TnxuoZ9jw"
      }
    },
    {
      "cell_type": "markdown",
      "source": [
        "self is used in methods to refer to the instance of the class itself"
      ],
      "metadata": {
        "id": "B13fnoMpmbhI"
      }
    },
    {
      "cell_type": "markdown",
      "source": [
        "### What we mean with OOP 4 Pillars"
      ],
      "metadata": {
        "id": "KdsHy2_CZ_d_"
      }
    },
    {
      "cell_type": "markdown",
      "source": [
        "Encapsulation\n",
        "Inheritance\n",
        "Polymorphism\n",
        "Abstraction"
      ],
      "metadata": {
        "id": "XMYFpACOmu9n"
      }
    },
    {
      "cell_type": "markdown",
      "source": [
        "###  Why we use OOP in our code"
      ],
      "metadata": {
        "id": "_WkKdEQSaBlt"
      }
    },
    {
      "cell_type": "markdown",
      "source": [
        "OOP promotes better code organization, maintainability, scalability and it making it a preferred approach for developing large, complex software systems."
      ],
      "metadata": {
        "id": "XH6zYVKqnFz5"
      }
    },
    {
      "cell_type": "markdown",
      "source": [
        "### Create a new class names SciCalc with 3 methods , sum , mull , power all of them takes 2 argument x, y"
      ],
      "metadata": {
        "id": "IdJYRpDlaEca"
      }
    },
    {
      "cell_type": "markdown",
      "source": [
        "### Sum return the sum of x and y"
      ],
      "metadata": {
        "id": "qV1wzT51aHlw"
      }
    },
    {
      "cell_type": "markdown",
      "source": [
        "###  Mull return the multiplication of x and y"
      ],
      "metadata": {
        "id": "EwdGJ1KVaJ9W"
      }
    },
    {
      "cell_type": "code",
      "source": [
        "class Calc:\n",
        "    def __init__(self):\n",
        "        pass\n",
        "    def add(self, x, y):\n",
        "        return x + y\n",
        "    def multiply(self, x, y):\n",
        "        return x * y\n",
        "    def power(self, x, y):\n",
        "        return x ** y\n",
        "\n",
        "class SciCalc(Calc):\n",
        "    def __init__(self):\n",
        "        super().__init__()\n",
        "    def sum(self, x, y):\n",
        "        return self.add(x, y)\n",
        "    def mull(self, x, y):\n",
        "        return self.multiply(x, y)\n",
        "calc = SciCalc()\n",
        "print(calc.sum(1, 2))\n",
        "print(calc.mull(2, 3))\n",
        "print(calc.power(2, 3))"
      ],
      "metadata": {
        "id": "q90nnVcSvJZY"
      },
      "execution_count": null,
      "outputs": []
    },
    {
      "cell_type": "markdown",
      "source": [
        "### Inherit from the Calc class , now remove the unneeded code the the SciCalc after inheriting\n"
      ],
      "metadata": {
        "id": "aNNs5VAzaVZx"
      }
    },
    {
      "cell_type": "markdown",
      "source": [
        "### Explain in few words what happened after inheriting"
      ],
      "metadata": {
        "id": "BkMXbHfMaf5S"
      }
    },
    {
      "cell_type": "markdown",
      "source": [
        "By inheriting from the Calc class, the SciCalc class can benefit from the existing code and functionality, while also adding new features and customizing the behavior to fit its specific needs. This is a powerful feature of object-oriented programming in Python and allows for code reuse, modularity, and extensibility."
      ],
      "metadata": {
        "id": "0zx3DJfYwOpo"
      }
    }
  ]
}