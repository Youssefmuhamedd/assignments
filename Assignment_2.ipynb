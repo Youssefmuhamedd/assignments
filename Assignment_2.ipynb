{
  "nbformat": 4,
  "nbformat_minor": 0,
  "metadata": {
    "colab": {
      "private_outputs": true,
      "provenance": []
    },
    "kernelspec": {
      "name": "python3",
      "display_name": "Python 3"
    },
    "language_info": {
      "name": "python"
    }
  },
  "cells": [
    {
      "cell_type": "markdown",
      "source": [
        "### 1) Write a program to print the maximum between two numbers. (one-line conditional statement)\n"
      ],
      "metadata": {
        "id": "Ui8LKXjlii3V"
      }
    },
    {
      "cell_type": "code",
      "source": [
        "x=float(input(\"first number: \"))\n",
        "y=float(input(\"second number: \"))\n",
        "if x > y:\n",
        "  print(\"max is first number=\", x)\n",
        "else:\n",
        "  print(\"max is second number=\", y)\n"
      ],
      "metadata": {
        "id": "kkS0b_xkJfRV"
      },
      "execution_count": null,
      "outputs": []
    },
    {
      "cell_type": "markdown",
      "source": [
        "### 2) Write a program to find the maximum between three numbers.\n"
      ],
      "metadata": {
        "id": "xQB_yP4rirZS"
      }
    },
    {
      "cell_type": "code",
      "source": [
        "x=float(input(\"first number: \"))\n",
        "y=float(input(\"second number: \"))\n",
        "z=float(input(\"third number: \"))\n",
        "if x > y and x > z:\n",
        "  print(\"max is first number=\", x)\n",
        "elif y > z:\n",
        "  print(\"max is second number=\", y)\n",
        "else:\n",
        "  print(\"max is third number=\", z)"
      ],
      "metadata": {
        "id": "9605ibSIJf6U"
      },
      "execution_count": null,
      "outputs": []
    },
    {
      "cell_type": "markdown",
      "source": [
        "### 3) Write a program to check whether a number is negative, or positive (one-line conditional statement)\n"
      ],
      "metadata": {
        "id": "di3xEq8mjBRK"
      }
    },
    {
      "cell_type": "code",
      "source": [
        "number = float(input(\"Enter a number: \"))\n",
        "if number > 0:\n",
        " print(\"positive\")\n",
        "else:\n",
        "  print(\"negative\")"
      ],
      "metadata": {
        "id": "oYPZgaO9JgKd"
      },
      "execution_count": null,
      "outputs": []
    },
    {
      "cell_type": "markdown",
      "source": [
        "### 4) Write a  program to check whether a number is even or odd  (one-line statement).\n"
      ],
      "metadata": {
        "id": "grc5Gk_RjFBe"
      }
    },
    {
      "cell_type": "code",
      "source": [
        "x = int(input(\"Enter your number\"))\n",
        "if x%2==0:\n",
        "    print('Even')\n",
        "else:\n",
        "    print('odd')"
      ],
      "metadata": {
        "id": "tef7WVp2Jgjl"
      },
      "execution_count": null,
      "outputs": []
    },
    {
      "cell_type": "markdown",
      "source": [
        "###5) Write a  program to check whether a year is a leap year or not. (one-line conditional statement).\n"
      ],
      "metadata": {
        "id": "-J3UtjpIjJPv"
      }
    },
    {
      "cell_type": "code",
      "source": [
        "year = int(input(\"Enter a year: \"))\n",
        "if year % 4 == 0 and year % 100 != 0 or year % 400 == 0:\n",
        "    print(\"leap year\")\n",
        "else:\n",
        "    print(\"not a leap year\")"
      ],
      "metadata": {
        "id": "rgohwJPjJg81"
      },
      "execution_count": null,
      "outputs": []
    },
    {
      "cell_type": "markdown",
      "source": [
        "###6) Write a  program to store the weekdays in a list and access the week day and print it by index.\n"
      ],
      "metadata": {
        "id": "JeN4yaIMjNlC"
      }
    },
    {
      "cell_type": "code",
      "source": [
        "week_days = ['Saturday', 'Sunday', 'Monday', 'Tuesday', 'Wednesday', 'Thursday', 'Friday']\n",
        "day_index = int(input(\"Enter the index of the week day: \"))\n",
        "\n",
        "if 0 <= day_index <= 6:\n",
        "    print(\"The week day at index\", day_index, \"is\", week_days[day_index])\n",
        "else:\n",
        "    print(\"Invalid index\")"
      ],
      "metadata": {
        "id": "01oumexBJhUs"
      },
      "execution_count": null,
      "outputs": []
    },
    {
      "cell_type": "markdown",
      "source": [
        "###7) Write a  program to print all alphabets from a to z using while loop"
      ],
      "metadata": {
        "id": "ST7uKJmtjYh1"
      }
    },
    {
      "cell_type": "code",
      "source": [
        "alphabet = ord('a')\n",
        "while alphabet <= ord('z'):\n",
        "    print(chr(alphabet))\n",
        "    alphabet += 1"
      ],
      "metadata": {
        "id": "8xbF1rk6Jhkk"
      },
      "execution_count": null,
      "outputs": []
    },
    {
      "cell_type": "markdown",
      "source": [
        "###8)Write a program to sotre numbers in the List and print its reverse"
      ],
      "metadata": {
        "id": "PkPPTrivjran"
      }
    },
    {
      "cell_type": "code",
      "source": [
        "list_one =[1,5,6,4,7,3,9]\n",
        "print(list_one)\n",
        "list_one.sort()\n",
        "print(\"sortes is = \",list_one)\n",
        "list_one.reverse()\n",
        "print(\"reverse is = \",list_one)"
      ],
      "metadata": {
        "id": "AGP45fFaJOb0"
      },
      "execution_count": null,
      "outputs": []
    },
    {
      "cell_type": "markdown",
      "source": [
        "### 9) Write a program to print the multiplcation table of any number"
      ],
      "metadata": {
        "id": "2JoHNIaCj7fR"
      }
    },
    {
      "cell_type": "code",
      "source": [
        "n = int(input(\"Input a number: \"))\n",
        "for i in range(1, 11):\n",
        "    print(n, 'x', i, '=', n * i)"
      ],
      "metadata": {
        "id": "cIEDN2U_Jibf"
      },
      "execution_count": null,
      "outputs": []
    },
    {
      "cell_type": "markdown",
      "source": [
        "###10)Write a program to print all even numbers between 1 to 100.(using while loop)"
      ],
      "metadata": {
        "id": "WTIX9yh1kLs-"
      }
    },
    {
      "cell_type": "code",
      "execution_count": null,
      "metadata": {
        "id": "i5fTGY3Qib9Y"
      },
      "outputs": [],
      "source": [
        "n = 1\n",
        "while n <= 100:\n",
        "    if n % 2 == 0:\n",
        "        print(n)\n",
        "    n += 1"
      ]
    }
  ]
}