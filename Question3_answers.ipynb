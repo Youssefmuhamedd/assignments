{
  "cells": [
    {
      "cell_type": "markdown",
      "metadata": {
        "id": "7rMJIubZGObP"
      },
      "source": [
        "#### Multiply 10 with 5, and print the result.\n",
        "\n"
      ]
    },
    {
      "cell_type": "code",
      "source": [
        "result = 10 * 5\n",
        "print(result)"
      ],
      "metadata": {
        "colab": {
          "base_uri": "https://localhost:8080/"
        },
        "id": "x4o084u0pHwR",
        "outputId": "c63970eb-7ace-49e5-c20d-522f1e41fde8"
      },
      "execution_count": null,
      "outputs": [
        {
          "output_type": "stream",
          "name": "stdout",
          "text": [
            "50\n"
          ]
        }
      ]
    },
    {
      "cell_type": "markdown",
      "metadata": {
        "id": "Mucrs9f5GYw3"
      },
      "source": [
        "### Divide 10 by 2, and print the result.\n",
        "\n"
      ]
    },
    {
      "cell_type": "code",
      "source": [
        "result = 10 / 2\n",
        "print(result)"
      ],
      "metadata": {
        "colab": {
          "base_uri": "https://localhost:8080/"
        },
        "id": "Ucxr7KMkpIFA",
        "outputId": "d2360c5e-1e79-466e-d58e-d50d7daecfa6"
      },
      "execution_count": null,
      "outputs": [
        {
          "output_type": "stream",
          "name": "stdout",
          "text": [
            "5.0\n"
          ]
        }
      ]
    },
    {
      "cell_type": "markdown",
      "metadata": {
        "id": "GhvrFFPxGkLF"
      },
      "source": [
        "### Use the correct membership operator to check if \"apple\" is present in the fruits object.\n",
        "\n"
      ]
    },
    {
      "cell_type": "code",
      "source": [
        "fruits = [\"banana\", \"orange\", \"apple\", \"grape\"]\n",
        "\n",
        "if \"apple\" in fruits:\n",
        "    print(\"Apple is present in the list.\")\n",
        "else:\n",
        "    print(\"Apple is not present in the list.\")"
      ],
      "metadata": {
        "colab": {
          "base_uri": "https://localhost:8080/"
        },
        "id": "JVx39DiCpI2X",
        "outputId": "9aac25f1-77a4-4381-b738-d8981e05ab0e"
      },
      "execution_count": null,
      "outputs": [
        {
          "output_type": "stream",
          "name": "stdout",
          "text": [
            "Apple is present in the list.\n"
          ]
        }
      ]
    },
    {
      "cell_type": "markdown",
      "metadata": {
        "id": "71TfNEQxGuNw"
      },
      "source": [
        "### Use the correct comparison operator to check if 5 is `not equal` to 10.\n",
        "\n"
      ]
    },
    {
      "cell_type": "code",
      "source": [
        "if 5 != 10:\n",
        "    print(\"5 is not equal to 10.\")"
      ],
      "metadata": {
        "colab": {
          "base_uri": "https://localhost:8080/"
        },
        "id": "aNFv1j5IpJJg",
        "outputId": "3153a780-a9f7-4274-acf6-5cc469b80ee4"
      },
      "execution_count": null,
      "outputs": [
        {
          "output_type": "stream",
          "name": "stdout",
          "text": [
            "5 is not equal to 10.\n"
          ]
        }
      ]
    },
    {
      "cell_type": "markdown",
      "metadata": {
        "id": "_cqga3VjG9jJ"
      },
      "source": [
        "### Use the correct logical operator to check if at least one of two statements is `True`.\n",
        "\n"
      ]
    },
    {
      "cell_type": "code",
      "source": [
        "statement1 = True\n",
        "statement2 = False\n",
        "\n",
        "if statement1 or statement2:\n",
        "    print(\"At least one statement is True.\")\n",
        "else:\n",
        "    print(\"Both statements are False.\")"
      ],
      "metadata": {
        "colab": {
          "base_uri": "https://localhost:8080/"
        },
        "id": "qVYMg2FqpJjA",
        "outputId": "106f1bf7-808c-48b1-dc5f-0750a7ae8a8d"
      },
      "execution_count": null,
      "outputs": [
        {
          "output_type": "stream",
          "name": "stdout",
          "text": [
            "At least one statement is True.\n"
          ]
        }
      ]
    },
    {
      "cell_type": "markdown",
      "metadata": {
        "id": "gvFm9RC4H2BJ"
      },
      "source": [
        "### Print the second item in the fruits list.\n",
        "\n"
      ]
    },
    {
      "cell_type": "code",
      "source": [
        "fruits = [\"apple\", \"banana\", \"orange\", \"grape\"]\n",
        "\n",
        "if len(fruits) >= 2:\n",
        "    print(fruits[1])\n",
        "else:\n",
        "    print(\"The list has fewer than 2 items.\")"
      ],
      "metadata": {
        "colab": {
          "base_uri": "https://localhost:8080/"
        },
        "id": "JRsgWaJZpJ8i",
        "outputId": "a77e588b-1922-42ff-fc29-5f164d63c358"
      },
      "execution_count": null,
      "outputs": [
        {
          "output_type": "stream",
          "name": "stdout",
          "text": [
            "banana\n"
          ]
        }
      ]
    },
    {
      "cell_type": "markdown",
      "metadata": {
        "id": "_o7i99HGICNC"
      },
      "source": [
        "### Change the value from \"apple\" to \"kiwi\", in the fruits list.\n",
        "\n"
      ]
    },
    {
      "cell_type": "code",
      "source": [
        "fruits = [\"apple\", \"banana\", \"orange\", \"grape\"]\n",
        "\n",
        "if \"apple\" in fruits:\n",
        "    index = fruits.index(\"apple\")\n",
        "    fruits[index] = \"kiwi\"\n",
        "else:\n",
        "    print(\"The list does not contain 'apple'.\")\n",
        "\n",
        "print(fruits)"
      ],
      "metadata": {
        "colab": {
          "base_uri": "https://localhost:8080/"
        },
        "id": "3__k_3RVpKY6",
        "outputId": "b8e1b92a-7281-4671-e1d2-3331fdcd7769"
      },
      "execution_count": null,
      "outputs": [
        {
          "output_type": "stream",
          "name": "stdout",
          "text": [
            "['kiwi', 'banana', 'orange', 'grape']\n"
          ]
        }
      ]
    },
    {
      "cell_type": "markdown",
      "metadata": {
        "id": "Wxi383HNILra"
      },
      "source": [
        "### Use the append method to add \"orange\" to the fruits list.\n",
        "\n"
      ]
    },
    {
      "cell_type": "code",
      "source": [
        "fruits = [\"apple\", \"banana\", \"grape\"]\n",
        "\n",
        "fruits.append(\"orange\")\n",
        "\n",
        "print(fruits)"
      ],
      "metadata": {
        "colab": {
          "base_uri": "https://localhost:8080/"
        },
        "id": "oKmTCRjApK3A",
        "outputId": "3bbfd340-3226-480a-ae06-18dd465a2d18"
      },
      "execution_count": null,
      "outputs": [
        {
          "output_type": "stream",
          "name": "stdout",
          "text": [
            "['apple', 'banana', 'grape', 'orange']\n"
          ]
        }
      ]
    },
    {
      "cell_type": "markdown",
      "metadata": {
        "id": "z6tv8q6zIUjZ"
      },
      "source": [
        "### Use the insert method to add \"lemon\" as the second item in the fruits list.\n",
        "\n"
      ]
    },
    {
      "cell_type": "code",
      "source": [
        "fruits = [\"apple\", \"banana\", \"grape\"]\n",
        "\n",
        "fruits.insert(1, \"lemon\")\n",
        "\n",
        "print(fruits)"
      ],
      "metadata": {
        "colab": {
          "base_uri": "https://localhost:8080/"
        },
        "id": "D9Gmf4wmpLGf",
        "outputId": "4f47954c-4edd-4b86-948c-a001a2c746fe"
      },
      "execution_count": null,
      "outputs": [
        {
          "output_type": "stream",
          "name": "stdout",
          "text": [
            "['apple', 'lemon', 'banana', 'grape']\n"
          ]
        }
      ]
    },
    {
      "cell_type": "markdown",
      "metadata": {
        "id": "CsyceyyBIiSw"
      },
      "source": [
        "### Use the remove method to remove `\"banana\"` from the fruits list.\n",
        "\n"
      ]
    },
    {
      "cell_type": "code",
      "source": [
        "fruits = [\"apple\", \"banana\", \"orange\", \"grape\"]\n",
        "fruits.remove(\"banana\")\n",
        "print(fruits)"
      ],
      "metadata": {
        "colab": {
          "base_uri": "https://localhost:8080/"
        },
        "id": "Uqp90HWHpLbY",
        "outputId": "a7e477aa-ee49-46dc-e3ca-ab2008dcf5e6"
      },
      "execution_count": null,
      "outputs": [
        {
          "output_type": "stream",
          "name": "stdout",
          "text": [
            "['apple', 'orange', 'grape']\n"
          ]
        }
      ]
    },
    {
      "cell_type": "markdown",
      "metadata": {
        "id": "0fbTHlYrIrwY"
      },
      "source": [
        "### Use negative indexing to print the last item in the list.\n",
        "\n"
      ]
    },
    {
      "cell_type": "code",
      "source": [
        "fruits = [\"apple\", \"banana\", \"orange\", \"grape\"]\n",
        "print(fruits[-1])"
      ],
      "metadata": {
        "colab": {
          "base_uri": "https://localhost:8080/"
        },
        "id": "VlS8IFz9pL_6",
        "outputId": "b694f8ff-9fd1-450f-c08b-4d6cf63b4874"
      },
      "execution_count": null,
      "outputs": [
        {
          "output_type": "stream",
          "name": "stdout",
          "text": [
            "grape\n"
          ]
        }
      ]
    },
    {
      "cell_type": "markdown",
      "metadata": {
        "id": "rR3ORmMVI55Z"
      },
      "source": [
        "### Use a range of indexes to print the third, fourth, and fifth item in the list.\n",
        "\n"
      ]
    },
    {
      "cell_type": "code",
      "source": [
        "fruits = [\"apple\", \"banana\", \"orange\", \"grape\", \"lemon\", \"lime\"]\n",
        "print(fruits[2:5])"
      ],
      "metadata": {
        "colab": {
          "base_uri": "https://localhost:8080/"
        },
        "id": "PGyDwXp1pMOw",
        "outputId": "60bdccb6-7341-48c3-d511-c7dfdcc7d16d"
      },
      "execution_count": null,
      "outputs": [
        {
          "output_type": "stream",
          "name": "stdout",
          "text": [
            "['orange', 'grape', 'lemon']\n"
          ]
        }
      ]
    },
    {
      "cell_type": "markdown",
      "metadata": {
        "id": "tc0ZAGQ2JfM9"
      },
      "source": [
        "### Use the correct syntax to print the number of items in the list.\n",
        "\n"
      ]
    },
    {
      "cell_type": "code",
      "source": [
        "fruits = [\"apple\", \"banana\", \"orange\", \"grape\", \"lemon\", \"lime\"]\n",
        "print(\"Number of items in the list: \", len(fruits))"
      ],
      "metadata": {
        "colab": {
          "base_uri": "https://localhost:8080/"
        },
        "id": "Rj1zJQWwpMjf",
        "outputId": "6aebc2c7-2e88-420e-ad39-0bad21d5b667"
      },
      "execution_count": null,
      "outputs": [
        {
          "output_type": "stream",
          "name": "stdout",
          "text": [
            "Number of items in the list:  6\n"
          ]
        }
      ]
    },
    {
      "cell_type": "markdown",
      "metadata": {
        "id": "feYJq0vYKe1S"
      },
      "source": [
        "### Write a Python program to print all even numbers from a given list of numbers in the same order and stop printing any after 237 in the sequence."
      ]
    },
    {
      "cell_type": "markdown",
      "metadata": {
        "id": "ec1qLM7DKnea"
      },
      "source": [
        "#### numbers = [    \n",
        "    386, 462, 47, 418, 907, 344, 236, 375, 823, 566, 597, 978, 328, 615, 953, 345,\n",
        "    399, 162, 758, 219, 918, 237, 412, 566, 826, 248, 866, 950, 626, 949, 687, 217,\n",
        "    815, 67, 104, 58, 512, 24, 892, 894, 767, 553, 81, 379, 843, 831, 445, 742, 717,\n",
        "    958,743, 527\n",
        "    ]"
      ]
    },
    {
      "cell_type": "code",
      "source": [
        "numbers = [386, 462, 47, 418, 907, 344, 236, 375, 823, 566, 597, 978, 328, 615, 953, 345,\n",
        "399, 162, 758, 219, 918, 237, 412, 566, 826, 248, 866, 950, 626, 949, 687, 217,\n",
        "815, 67, 104, 58, 512, 24, 892, 894, 767, 553, 81, 379, 843, 831, 445, 742, 717,\n",
        "958,743, 527]\n",
        "\n",
        "for num in numbers:\n",
        "     if num == 237:\n",
        "         break\n",
        "     if num % 2 == 0:\n",
        "          print(num)\n"
      ],
      "metadata": {
        "colab": {
          "base_uri": "https://localhost:8080/"
        },
        "id": "DSwRzWn4z49a",
        "outputId": "a7a432e0-abf2-42d2-d61e-e0c50b5d6ca6"
      },
      "execution_count": null,
      "outputs": [
        {
          "output_type": "stream",
          "name": "stdout",
          "text": [
            "386\n",
            "462\n",
            "418\n",
            "344\n",
            "236\n",
            "566\n",
            "978\n",
            "328\n",
            "162\n",
            "758\n",
            "918\n"
          ]
        }
      ]
    },
    {
      "cell_type": "markdown",
      "metadata": {
        "id": "FX6mi5tqLb5J"
      },
      "source": [
        "### Write a Python program that will accept the base and height of a triangle and compute its area.\n",
        "\n"
      ]
    },
    {
      "cell_type": "markdown",
      "metadata": {
        "id": "mt1FKNPYLN0I"
      },
      "source": [
        "<img src=\"https://www.w3resource.com/w3r_images/python-area-triangle-basic-exercise-30.png\" alt=\"Girl in a jacket\" width=\"500\" height=\"600\">\n"
      ]
    },
    {
      "cell_type": "code",
      "source": [
        "b=int(input(\"enter base: \"))\n",
        "h=int(input(\"enter hight: \"))\n",
        "area= 0.5 * b * h\n",
        "print(area)"
      ],
      "metadata": {
        "colab": {
          "base_uri": "https://localhost:8080/"
        },
        "id": "-FaD5VsspOz4",
        "outputId": "22b8ebdc-9d8b-4306-a04e-678f9cd34a40"
      },
      "execution_count": null,
      "outputs": [
        {
          "output_type": "stream",
          "name": "stdout",
          "text": [
            "enter base: 5\n",
            "enter hight: 5\n",
            "12.5\n"
          ]
        }
      ]
    },
    {
      "cell_type": "markdown",
      "metadata": {
        "id": "tP7gY2ZCPxnU"
      },
      "source": [
        "### Sort three integers without using conditional statements\n",
        "\n"
      ]
    },
    {
      "cell_type": "code",
      "source": [
        "first_number=int(input(\"enter first number: \"))\n",
        "second_number=int(input(\"enter second number: \"))\n",
        "third_number=int(input(\"enter third number: \"))\n",
        "a1=max(first_number,second_number,third_number)\n",
        "a3=min(first_number,second_number,third_number)\n",
        "a2=(first_number+second_number+third_number)-a1-a3\n",
        "print(a3,a2,a1)"
      ],
      "metadata": {
        "colab": {
          "base_uri": "https://localhost:8080/"
        },
        "id": "Gg3H2UyipPIQ",
        "outputId": "1a531fd1-8eaf-4634-b539-40599fd3683b"
      },
      "execution_count": null,
      "outputs": [
        {
          "output_type": "stream",
          "name": "stdout",
          "text": [
            "enter first number: 55\n",
            "enter second number: 66\n",
            "enter third number: 77\n",
            "55 66 77\n"
          ]
        }
      ]
    },
    {
      "cell_type": "markdown",
      "metadata": {
        "id": "Xwy7VRdJPtxN"
      },
      "source": [
        "<img src=\"https://www.w3resource.com/w3r_images/python-basic-image-exercise-69.png\" alt=\"Girl in a jacket\" width=\"500\" height=\"600\">\n"
      ]
    },
    {
      "cell_type": "markdown",
      "metadata": {
        "id": "zNKNtPGrRbvr"
      },
      "source": [
        "### Sort three integers :using conditional statements\n",
        "\n",
        "\n",
        "\n"
      ]
    },
    {
      "cell_type": "code",
      "source": [
        "a=float(input(\"enter a: \"))\n",
        "b=float(input(\"enter b: \"))\n",
        "c=float(input(\"enter c: \"))\n",
        "if a>b:\n",
        "  a,b = b,a\n",
        "if a>c:\n",
        "  a,c = c,a\n",
        "if b>c:\n",
        "  b,c = c,b\n",
        "print(a,\"<\",b,\"<\",c)"
      ],
      "metadata": {
        "colab": {
          "base_uri": "https://localhost:8080/"
        },
        "id": "XlSQOwicpPiv",
        "outputId": "503f77ed-830a-47f9-9439-be69f9a1674d"
      },
      "execution_count": null,
      "outputs": [
        {
          "output_type": "stream",
          "name": "stdout",
          "text": [
            "enter a: 55\n",
            "enter b: 66\n",
            "enter c: 77\n",
            "55.0 < 66.0 < 77.0\n"
          ]
        }
      ]
    },
    {
      "cell_type": "markdown",
      "metadata": {
        "id": "nn6opiI8Uj1-"
      },
      "source": [
        "#### Write a Python function that takes a sequence of numbers and determines whether all the numbers are different from each other."
      ]
    },
    {
      "cell_type": "markdown",
      "metadata": {
        "id": "9LQTVtiGVJ9r"
      },
      "source": [
        "<img src=\"https://www.w3resource.com/w3r_images/python-basic-1-image-exercise-1.png\" alt=\"Girl in a jacket\" width=\"500\" height=\"600\">\n"
      ]
    },
    {
      "cell_type": "code",
      "source": [
        "def all_different(numbers):\n",
        "    unique_numbers = set()\n",
        "    for num in numbers:\n",
        "        if num in unique_numbers:\n",
        "            return False\n",
        "        unique_numbers.add(num)\n",
        "    return True\n",
        "numbers = [1, 2, 3, 4, 5, 6, 7]\n",
        "print(all_different(numbers))\n",
        "\n",
        "numbers = [1, 2, 3, 3, 5, 6, 7]\n",
        "print(all_different(numbers))"
      ],
      "metadata": {
        "colab": {
          "base_uri": "https://localhost:8080/"
        },
        "id": "PuFF2zuA1_j_",
        "outputId": "299c36ba-ec66-4337-efae-c9590d7d451e"
      },
      "execution_count": null,
      "outputs": [
        {
          "output_type": "stream",
          "name": "stdout",
          "text": [
            "True\n",
            "False\n"
          ]
        }
      ]
    },
    {
      "cell_type": "markdown",
      "metadata": {
        "id": "HHNeCzCWa3lx"
      },
      "source": [
        "#### Dictionary"
      ]
    },
    {
      "cell_type": "code",
      "execution_count": null,
      "metadata": {
        "colab": {
          "base_uri": "https://localhost:8080/"
        },
        "id": "WOrfDlTla-Lf",
        "outputId": "dd461546-7b21-484a-8310-703bd1e47dcd"
      },
      "outputs": [
        {
          "output_type": "execute_result",
          "data": {
            "text/plain": [
              "['a', 'b', 'c']"
            ]
          },
          "metadata": {},
          "execution_count": 48
        }
      ],
      "source": [
        "dict1 = {'a': 100, 'b': 200, 'c': 300}\n",
        "list(dict1.keys())"
      ]
    },
    {
      "cell_type": "code",
      "execution_count": null,
      "metadata": {
        "colab": {
          "base_uri": "https://localhost:8080/"
        },
        "id": "DAdr9gOQbDng",
        "outputId": "5b2a06b4-c0aa-439a-a98c-94a8041b9e9f"
      },
      "outputs": [
        {
          "output_type": "execute_result",
          "data": {
            "text/plain": [
              "[200, 300]"
            ]
          },
          "metadata": {},
          "execution_count": 49
        }
      ],
      "source": [
        "dict1 = {'a': 100, 'a': 200, 'c': 300}\n",
        "list(dict1.values())"
      ]
    },
    {
      "cell_type": "code",
      "execution_count": null,
      "metadata": {
        "colab": {
          "base_uri": "https://localhost:8080/"
        },
        "id": "XzjcaUpqbMGc",
        "outputId": "1dff67d6-4f4f-4a3f-90af-3adc4c727aa4"
      },
      "outputs": [
        {
          "output_type": "execute_result",
          "data": {
            "text/plain": [
              "[('a', 200), ('c', 300)]"
            ]
          },
          "metadata": {},
          "execution_count": 50
        }
      ],
      "source": [
        "dict1 = {'a': 100, 'a': 200, 'c': 300}\n",
        "list(dict1.items())"
      ]
    },
    {
      "cell_type": "markdown",
      "metadata": {
        "id": "6c1ld1XoZ_RK"
      },
      "source": [
        "```\n",
        "Input : {‘a’: 100, ‘b’:200, ‘c’:300}\n",
        "```\n",
        "Output : 600\n",
        "```\n",
        "# Input : {‘x’: 25, ‘y’:18, ‘z’:45}\n",
        "\n",
        "```\n",
        "Output : 88"
      ]
    },
    {
      "cell_type": "code",
      "execution_count": null,
      "metadata": {
        "id": "tXhL4XGdR6oE"
      },
      "outputs": [],
      "source": [
        "sum([0,1,2,3,4,5])\n",
        "sum((0,1,2,3,4,5))\n",
        "sum({0,1,2,3,4,5})\n",
        "sum({5:5,10:11})"
      ]
    },
    {
      "cell_type": "markdown",
      "source": [
        "### Python program to find the sum of all values in a dictionary\n"
      ],
      "metadata": {
        "id": "6BJBp-omBEnB"
      }
    },
    {
      "cell_type": "code",
      "source": [
        "my_dict = {'a': 10, 'b': 20, 'c': 30, 'd': 40}\n",
        "sum_of_values = 0\n",
        "for key, value in my_dict.items():\n",
        "    sum_of_values += value\n",
        "print(sum_of_values)"
      ],
      "metadata": {
        "colab": {
          "base_uri": "https://localhost:8080/"
        },
        "id": "ym8lRFnl2jLP",
        "outputId": "b189aa50-16d0-496c-b590-0795112c24a3"
      },
      "execution_count": null,
      "outputs": [
        {
          "output_type": "stream",
          "name": "stdout",
          "text": [
            "100\n"
          ]
        }
      ]
    },
    {
      "cell_type": "markdown",
      "metadata": {
        "id": "LcvPYHMNb3KI"
      },
      "source": [
        "### Filter the negative values from given dictionary"
      ]
    },
    {
      "cell_type": "code",
      "source": [
        "my_dict = {'a': -10, 'b': 20, 'c': -30, 'd': 40, 'e': -50}\n",
        "filtered_dict = {k: v for k, v in my_dict.items() if v >= 0}\n",
        "print(filtered_dict)"
      ],
      "metadata": {
        "colab": {
          "base_uri": "https://localhost:8080/"
        },
        "id": "GANYSxFT2jyw",
        "outputId": "ab434167-9a76-4b83-e383-d11e9bedeea3"
      },
      "execution_count": null,
      "outputs": [
        {
          "output_type": "stream",
          "name": "stdout",
          "text": [
            "{'b': 20, 'd': 40}\n"
          ]
        }
      ]
    },
    {
      "cell_type": "markdown",
      "metadata": {
        "id": "zIj0KxvgIO58"
      },
      "source": [
        "### Test if all Values are Same in Dictionary"
      ]
    },
    {
      "cell_type": "markdown",
      "metadata": {
        "id": "-aCAiR5mktpN"
      },
      "source": [
        "### test_dict = {\"Gfg\": 8, \"is\": 5, \"Best\": 5}\n",
        "### False"
      ]
    },
    {
      "cell_type": "code",
      "source": [
        "def all_values_same(d):\n",
        "    first_value = next(iter(d.values()))\n",
        "    for value in d.values():\n",
        "        if value != first_value:\n",
        "            return False\n",
        "    return True\n",
        "test_dict = {\"Gfg\": 8, \"is\": 5, \"Best\": 5}\n",
        "print(all_values_same(test_dict))\n",
        "\n",
        "d = {'a': 10, 'b': 20, 'c': 10, 'd': 20}\n",
        "print(all_values_same(d))"
      ],
      "metadata": {
        "colab": {
          "base_uri": "https://localhost:8080/"
        },
        "id": "EdR3s-0m2kPP",
        "outputId": "caac8b85-abf1-4581-a0a3-a13e1f5415d7"
      },
      "execution_count": null,
      "outputs": [
        {
          "output_type": "stream",
          "name": "stdout",
          "text": [
            "False\n",
            "False\n"
          ]
        }
      ]
    },
    {
      "cell_type": "markdown",
      "metadata": {
        "id": "PG5Z5JNJMLTi"
      },
      "source": [
        "# `any`"
      ]
    },
    {
      "cell_type": "code",
      "execution_count": null,
      "metadata": {
        "colab": {
          "base_uri": "https://localhost:8080/"
        },
        "id": "42838XSZMPoh",
        "outputId": "ef0dc765-3926-4f0a-d8b8-11848044f775"
      },
      "outputs": [
        {
          "output_type": "stream",
          "name": "stdout",
          "text": [
            "True\n"
          ]
        }
      ],
      "source": [
        "mylist = [False, True, False]\n",
        "x = any(mylist)\n",
        "print(x)\n"
      ]
    },
    {
      "cell_type": "code",
      "execution_count": null,
      "metadata": {
        "colab": {
          "base_uri": "https://localhost:8080/"
        },
        "id": "jMcpwFY0MonY",
        "outputId": "0edffa08-2b33-4a1d-a20d-235aa719e03f"
      },
      "outputs": [
        {
          "output_type": "stream",
          "name": "stdout",
          "text": [
            "True\n"
          ]
        }
      ],
      "source": [
        "mydict = {0 : \"Apple\", 1 : \"Orange\"}\n",
        "x = any(mydict)\n",
        "print(x)"
      ]
    },
    {
      "cell_type": "code",
      "execution_count": null,
      "metadata": {
        "colab": {
          "base_uri": "https://localhost:8080/"
        },
        "id": "sDyzrjk5MuOl",
        "outputId": "4f4dfc37-1c34-4649-8727-09df293f8027"
      },
      "outputs": [
        {
          "output_type": "stream",
          "name": "stdout",
          "text": [
            "False\n"
          ]
        }
      ],
      "source": [
        "mydict = {0 : \"Apple\", 0 : True}\n",
        "x = any(mydict)\n",
        "print(x)"
      ]
    },
    {
      "cell_type": "markdown",
      "metadata": {
        "id": "hrg9MKDKMb0Y"
      },
      "source": [
        "#### <font color='gold'>Note: When used on a dictionary, the any() function checks if any of the keys are true, not the values.</font>\n",
        "\n",
        "\n"
      ]
    },
    {
      "cell_type": "markdown",
      "source": [
        "### Test if vlaue input  in dictionary value"
      ],
      "metadata": {
        "id": "RXYELJ29BVOm"
      }
    },
    {
      "cell_type": "markdown",
      "metadata": {
        "id": "3GT4F80UOaTa"
      },
      "source": [
        "### Calculate the sum of all numbers from 0 to a given number"
      ]
    },
    {
      "cell_type": "code",
      "source": [
        "n = 10\n",
        "sum = 0\n",
        "for i in range(n + 1):\n",
        "    sum += i\n",
        "print(sum)"
      ],
      "metadata": {
        "colab": {
          "base_uri": "https://localhost:8080/"
        },
        "id": "Hn0VJSfypytY",
        "outputId": "649f65bf-8195-4966-b15c-f0b485286505"
      },
      "execution_count": null,
      "outputs": [
        {
          "output_type": "stream",
          "name": "stdout",
          "text": [
            "55\n"
          ]
        }
      ]
    },
    {
      "cell_type": "markdown",
      "metadata": {
        "id": "1tHglDPNUT5J"
      },
      "source": [
        "### Find the factorial of a given number using while loop"
      ]
    },
    {
      "cell_type": "markdown",
      "metadata": {
        "id": "QT1487BDVCIU"
      },
      "source": [
        "#### For example: calculate the factorial of 5\n",
        "\n"
      ]
    },
    {
      "cell_type": "markdown",
      "metadata": {
        "id": "FCTJ9pt_VE-y"
      },
      "source": [
        "\n",
        "\n",
        "```\n",
        "# 5! = 5 × 4 × 3 × 2 × 1 = 120\n",
        "\n",
        "```\n",
        "\n"
      ]
    },
    {
      "cell_type": "code",
      "source": [
        "n = 5\n",
        "factorial = 1\n",
        "i = 1\n",
        "while i <= n:\n",
        "    factorial *= i\n",
        "    i += 1\n",
        "print(factorial)"
      ],
      "metadata": {
        "colab": {
          "base_uri": "https://localhost:8080/"
        },
        "id": "4jq5HF4UpxTw",
        "outputId": "31531d7f-e766-4447-8587-9058f37d80f0"
      },
      "execution_count": null,
      "outputs": [
        {
          "output_type": "stream",
          "name": "stdout",
          "text": [
            "120\n"
          ]
        }
      ]
    },
    {
      "cell_type": "markdown",
      "metadata": {
        "id": "q_f9IMbDYkLm"
      },
      "source": [
        "### Use a loop to display elements from a given list present at odd index positions"
      ]
    },
    {
      "cell_type": "markdown",
      "metadata": {
        "id": "Q9gHbx7XZBFc"
      },
      "source": [
        "```\n",
        "my_list = [10, 20, 30, 40, 50, 60, 70, 80, 90, 100]\n",
        "Expected output:\n",
        "20 40 60 80 100\n",
        "```\n",
        "\n"
      ]
    },
    {
      "cell_type": "code",
      "source": [
        "my_list = [10, 20, 30, 40, 50, 60, 70, 80, 90, 100]\n",
        "odd_index_list = []\n",
        "for i in range(len(my_list)):\n",
        "    if i % 2 != 0:\n",
        "        odd_index_list.append(my_list[i])\n",
        "print(odd_index_list)"
      ],
      "metadata": {
        "colab": {
          "base_uri": "https://localhost:8080/"
        },
        "id": "NxSh0o_f5IWH",
        "outputId": "b8a7fe5f-a327-45c4-e482-597e43e4d974"
      },
      "execution_count": null,
      "outputs": [
        {
          "output_type": "stream",
          "name": "stdout",
          "text": [
            "[20, 40, 60, 80, 100]\n"
          ]
        }
      ]
    },
    {
      "cell_type": "markdown",
      "metadata": {
        "id": "otJlQghGZZnk"
      },
      "source": [
        "### Calculate the cube of all numbers from 1 to a given number"
      ]
    },
    {
      "cell_type": "code",
      "source": [
        "n = 5\n",
        "cubes = []\n",
        "for i in range(1, n + 1):\n",
        "    cube = i ** 3\n",
        "    cubes.append(cube)\n",
        "print(cubes)"
      ],
      "metadata": {
        "colab": {
          "base_uri": "https://localhost:8080/"
        },
        "id": "46PGpwiB5aHX",
        "outputId": "71a676b0-914e-4de5-b0e3-26e99095e92b"
      },
      "execution_count": null,
      "outputs": [
        {
          "output_type": "stream",
          "name": "stdout",
          "text": [
            "[1, 8, 27, 64, 125]\n"
          ]
        }
      ]
    },
    {
      "cell_type": "markdown",
      "metadata": {
        "id": "NRZ3LLaUmtQu"
      },
      "source": [
        "### len of str in list\n",
        "### ['apple', 'orange', 'cat']"
      ]
    },
    {
      "cell_type": "code",
      "execution_count": null,
      "metadata": {
        "colab": {
          "base_uri": "https://localhost:8080/"
        },
        "id": "bIhFj4Q8ZlrW",
        "outputId": "b9e1ec9e-5035-4295-ac96-7b1ee5257b16"
      },
      "outputs": [
        {
          "output_type": "stream",
          "name": "stdout",
          "text": [
            "[5, 6, 3]\n"
          ]
        }
      ],
      "source": [
        "l = ['apple', 'orange', 'cat']\n",
        "print([ len(i) for i in l])\n"
      ]
    },
    {
      "cell_type": "markdown",
      "metadata": {
        "id": "V05BjYlMeMjZ"
      },
      "source": [
        "### program to count number of vowels using sets in given string\n"
      ]
    },
    {
      "cell_type": "markdown",
      "metadata": {
        "id": "rdIZGB8kgcMQ"
      },
      "source": [
        "\n",
        "### Write a Python program to add an item to a tuple."
      ]
    },
    {
      "cell_type": "code",
      "source": [
        "original_tuple = (1, 2, 3, 4, 5)\n",
        "new_tuple = original_tuple + (6,)\n",
        "print(\"New tuple: \", new_tuple)"
      ],
      "metadata": {
        "colab": {
          "base_uri": "https://localhost:8080/"
        },
        "id": "eYkvNoimprM5",
        "outputId": "9888b39e-33fb-4027-9449-cb308a112361"
      },
      "execution_count": null,
      "outputs": [
        {
          "output_type": "stream",
          "name": "stdout",
          "text": [
            "New tuple:  (1, 2, 3, 4, 5, 6)\n"
          ]
        }
      ]
    },
    {
      "cell_type": "markdown",
      "metadata": {
        "id": "NpZ-cEhZkSlO"
      },
      "source": [
        "### Write a Python program to multiply all the items in a list."
      ]
    },
    {
      "cell_type": "code",
      "source": [
        "my_list = [1, 2, 3, 4, 5]\n",
        "product = 1\n",
        "for num in my_list:\n",
        "    product *= num\n",
        "print(\"Product of list: \", product)"
      ],
      "metadata": {
        "colab": {
          "base_uri": "https://localhost:8080/"
        },
        "id": "06H8sGSuprmY",
        "outputId": "38fa0193-3cc1-4baf-9e21-e14984afd3cb"
      },
      "execution_count": null,
      "outputs": [
        {
          "output_type": "stream",
          "name": "stdout",
          "text": [
            "Product of list:  120\n"
          ]
        }
      ]
    },
    {
      "cell_type": "markdown",
      "metadata": {
        "id": "2fwBrTI1k1XG"
      },
      "source": [
        "### Write a Python program to get the smallest number from a list."
      ]
    },
    {
      "cell_type": "code",
      "source": [
        "my_list = [10, 20, 30, 40, 50, 60, 70, 80, 90, 100]\n",
        "smallest_num = my_list[0]\n",
        "for num in my_list[1:]:\n",
        "    if num < smallest_num:\n",
        "        smallest_num = num\n",
        "print(\"Smallest number: \", smallest_num)"
      ],
      "metadata": {
        "colab": {
          "base_uri": "https://localhost:8080/"
        },
        "id": "-9aCU_-opshA",
        "outputId": "345e40ba-449d-4bd0-d2df-da251a35ba21"
      },
      "execution_count": null,
      "outputs": [
        {
          "output_type": "stream",
          "name": "stdout",
          "text": [
            "Smallest number:  10\n"
          ]
        }
      ]
    },
    {
      "cell_type": "markdown",
      "metadata": {
        "id": "-k8pdXDek5IW"
      },
      "source": [
        "### Write a Python program to get the largest number from a list."
      ]
    },
    {
      "cell_type": "code",
      "source": [
        "def largest(list):\n",
        "    large= list[0]\n",
        "    for i in list:\n",
        "        if i>large:\n",
        "            large=i\n",
        "    return large\n",
        "li=[]\n",
        "n=int(input(\"Enter size of list \"))\n",
        "for i in range(0,n):\n",
        "    e=int(input(\"Enter element of list \"))\n",
        "    li.append(e)\n",
        "print(\"largest in \",li,\"is\")\n",
        "print(largest(li))"
      ],
      "metadata": {
        "colab": {
          "base_uri": "https://localhost:8080/"
        },
        "id": "i_G-f8nNpsQg",
        "outputId": "0343a3ca-d0e4-4614-ea83-b95c7d7f231e"
      },
      "execution_count": null,
      "outputs": [
        {
          "output_type": "stream",
          "name": "stdout",
          "text": [
            "Enter size of list 3\n",
            "Enter element of list 1\n",
            "Enter element of list 2\n",
            "Enter element of list 3\n",
            "largest in  [1, 2, 3] is\n",
            "3\n"
          ]
        }
      ]
    },
    {
      "cell_type": "markdown",
      "metadata": {
        "id": "xY1nqjlSlC7b"
      },
      "source": [
        "### Write a Python program to clone or copy a list"
      ]
    },
    {
      "cell_type": "code",
      "source": [
        "original_list = [1, 2, 3, 4, 5]\n",
        "cloned_list = original_list[:]\n",
        "print(\"Original list: \", original_list)\n",
        "print(\"Cloned list: \", cloned_list)\n",
        "cloned_list.append(6)\n",
        "cloned_list.append(7)\n",
        "print(\"Original list after modifying cloned list: \", original_list)\n",
        "print(\"Cloned list after modifying cloned list: \", cloned_list)"
      ],
      "metadata": {
        "colab": {
          "base_uri": "https://localhost:8080/"
        },
        "id": "xgTV8CL0pr4I",
        "outputId": "af4401ff-4814-4bbd-d8f2-95f861c5033c"
      },
      "execution_count": null,
      "outputs": [
        {
          "output_type": "stream",
          "name": "stdout",
          "text": [
            "Original list:  [1, 2, 3, 4, 5]\n",
            "Cloned list:  [1, 2, 3, 4, 5]\n",
            "Original list after modifying cloned list:  [1, 2, 3, 4, 5]\n",
            "Cloned list after modifying cloned list:  [1, 2, 3, 4, 5, 6, 7]\n"
          ]
        }
      ]
    },
    {
      "cell_type": "markdown",
      "metadata": {
        "id": "48pndthSlHSg"
      },
      "source": [
        "### Write a Python program to remove item(s) from a given set.\n",
        "\n",
        "### s = set([0, 1, 3, 4, 5])"
      ]
    },
    {
      "cell_type": "code",
      "source": [
        "s = {0, 1, 3, 4, 5}\n",
        "s.remove(3)\n",
        "print(s)"
      ],
      "metadata": {
        "colab": {
          "base_uri": "https://localhost:8080/"
        },
        "id": "O45zFZ-optRo",
        "outputId": "a9ec20ab-02ed-41cf-9603-8776ef59814c"
      },
      "execution_count": null,
      "outputs": [
        {
          "output_type": "stream",
          "name": "stdout",
          "text": [
            "{0, 1, 4, 5}\n"
          ]
        }
      ]
    },
    {
      "cell_type": "markdown",
      "metadata": {
        "id": "J5nHkSQ4lmlq"
      },
      "source": [
        "### Write a Python program to find the maximum and minimum values in a set."
      ]
    },
    {
      "cell_type": "code",
      "source": [
        "my_set = {10, 20, 30, 40, 50, 60, 70, 80, 90, 100}\n",
        "max_value = max(my_set)\n",
        "min_value = min(my_set)\n",
        "print(\"Maximum value: \", max_value)\n",
        "print(\"Minimum value: \", min_value)"
      ],
      "metadata": {
        "id": "pozq2MSKgZkj",
        "colab": {
          "base_uri": "https://localhost:8080/"
        },
        "outputId": "5a905f9e-f898-4ee7-a26c-98ebd95f40db"
      },
      "execution_count": null,
      "outputs": [
        {
          "output_type": "stream",
          "name": "stdout",
          "text": [
            "Maximum value:  100\n",
            "Minimum value:  10\n"
          ]
        }
      ]
    },
    {
      "cell_type": "markdown",
      "metadata": {
        "id": "ZDEKN9ulnLZO"
      },
      "source": [
        "### Write a Python program to convert a tuple to a dictionary.\n",
        "### dict1 = {}\n",
        "### tuple1 = (\"name\", \"age\", \"city\",\"city\")\n",
        "\n",
        "```\n",
        "# enumerate()\n",
        "```\n",
        "\n"
      ]
    },
    {
      "cell_type": "code",
      "source": [
        "tuple1 = (\"name\", \"age\", \"city\", \"city\")\n",
        "my_dict = {}\n",
        "for i, item in enumerate(tuple1):\n",
        "    my_dict[i] = item\n",
        "print(my_dict)"
      ],
      "metadata": {
        "id": "qsdU9NwAgX_Q",
        "colab": {
          "base_uri": "https://localhost:8080/"
        },
        "outputId": "70b3a678-90b4-4df2-cadb-70ed27956143"
      },
      "execution_count": null,
      "outputs": [
        {
          "output_type": "stream",
          "name": "stdout",
          "text": [
            "{0: 'name', 1: 'age', 2: 'city', 3: 'city'}\n"
          ]
        }
      ]
    },
    {
      "cell_type": "markdown",
      "metadata": {
        "id": "UN1IZCJHsWcX"
      },
      "source": [
        "### Write a Python program to replace the last value of tuples in a list.\n",
        "\n",
        "### Sample list: [(10, 20, 40), (40, 50, 60), (70, 80, 90)]\n",
        "\n",
        "### Expected Output: [(10, 20, 100), (40, 50, 100), (70, 80, 100)]\n",
        "\n"
      ]
    },
    {
      "cell_type": "code",
      "source": [
        "sample_list = [(10, 20, 40), (40, 50, 60), (70, 80, 90)]\n",
        "\n",
        "output_list = [(x, y, 100) for x, y, z in sample_list ]\n",
        "\n",
        "print(output_list)"
      ],
      "metadata": {
        "id": "Y9Ng9ePcgVdS",
        "colab": {
          "base_uri": "https://localhost:8080/"
        },
        "outputId": "e510ff60-5fdc-412d-99b8-76254138ef5e"
      },
      "execution_count": null,
      "outputs": [
        {
          "output_type": "stream",
          "name": "stdout",
          "text": [
            "[(10, 20, 100), (40, 50, 100), (70, 80, 100)]\n"
          ]
        }
      ]
    }
  ],
  "metadata": {
    "colab": {
      "provenance": []
    },
    "kernelspec": {
      "display_name": "Python 3",
      "name": "python3"
    },
    "language_info": {
      "name": "python"
    }
  },
  "nbformat": 4,
  "nbformat_minor": 0
}